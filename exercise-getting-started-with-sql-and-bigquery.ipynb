{
 "cells": [
  {
   "cell_type": "markdown",
   "id": "2d41b2fd",
   "metadata": {
    "papermill": {
     "duration": 0.005439,
     "end_time": "2023-06-01T03:43:37.971453",
     "exception": false,
     "start_time": "2023-06-01T03:43:37.966014",
     "status": "completed"
    },
    "tags": []
   },
   "source": [
    "**This notebook is an exercise in the [SQL](https://www.kaggle.com/learn/intro-to-sql) course.  You can reference the tutorial at [this link](https://www.kaggle.com/dansbecker/getting-started-with-sql-and-bigquery).**\n",
    "\n",
    "---\n"
   ]
  },
  {
   "cell_type": "markdown",
   "id": "c128a9c5",
   "metadata": {
    "papermill": {
     "duration": 0.004831,
     "end_time": "2023-06-01T03:43:37.981394",
     "exception": false,
     "start_time": "2023-06-01T03:43:37.976563",
     "status": "completed"
    },
    "tags": []
   },
   "source": [
    "# Introduction\n",
    "\n",
    "The first test of your new data exploration skills uses data describing crime in the city of Chicago.\n",
    "\n",
    "Before you get started, run the following cell. It sets up the automated feedback system to review your answers."
   ]
  },
  {
   "cell_type": "code",
   "execution_count": 1,
   "id": "4f7ab01c",
   "metadata": {
    "execution": {
     "iopub.execute_input": "2023-06-01T03:43:37.992722Z",
     "iopub.status.busy": "2023-06-01T03:43:37.992345Z",
     "iopub.status.idle": "2023-06-01T03:43:39.710585Z",
     "shell.execute_reply": "2023-06-01T03:43:39.709317Z"
    },
    "papermill": {
     "duration": 1.726444,
     "end_time": "2023-06-01T03:43:39.712724",
     "exception": false,
     "start_time": "2023-06-01T03:43:37.986280",
     "status": "completed"
    },
    "tags": []
   },
   "outputs": [
    {
     "name": "stdout",
     "output_type": "stream",
     "text": [
      "Using Kaggle's public dataset BigQuery integration.\n",
      "Setup Complete\n"
     ]
    }
   ],
   "source": [
    "# Set up feedack system\n",
    "from learntools.core import binder\n",
    "binder.bind(globals())\n",
    "from learntools.sql.ex1 import *\n",
    "print(\"Setup Complete\")"
   ]
  },
  {
   "cell_type": "markdown",
   "id": "1222c352",
   "metadata": {
    "papermill": {
     "duration": 0.005023,
     "end_time": "2023-06-01T03:43:39.723120",
     "exception": false,
     "start_time": "2023-06-01T03:43:39.718097",
     "status": "completed"
    },
    "tags": []
   },
   "source": [
    "Use the next code cell to fetch the dataset."
   ]
  },
  {
   "cell_type": "code",
   "execution_count": 2,
   "id": "0e08a2be",
   "metadata": {
    "execution": {
     "iopub.execute_input": "2023-06-01T03:43:39.735184Z",
     "iopub.status.busy": "2023-06-01T03:43:39.734188Z",
     "iopub.status.idle": "2023-06-01T03:43:40.233911Z",
     "shell.execute_reply": "2023-06-01T03:43:40.232860Z"
    },
    "papermill": {
     "duration": 0.508577,
     "end_time": "2023-06-01T03:43:40.236596",
     "exception": false,
     "start_time": "2023-06-01T03:43:39.728019",
     "status": "completed"
    },
    "tags": []
   },
   "outputs": [
    {
     "name": "stdout",
     "output_type": "stream",
     "text": [
      "Using Kaggle's public dataset BigQuery integration.\n"
     ]
    }
   ],
   "source": [
    "# from google.cloud import bigquery\n",
    "from google.cloud import bigquery\n",
    "\n",
    "# Create a \"Client\" object\n",
    "# client = bigquery.Client()\n",
    "client = bigquery.Client()\n",
    "\n",
    "# Construct a reference to the \"chicago_crime\" dataset\n",
    "# dataset_ref = client.dataset(\"chicago_crime\", project=\"bigquery-public-data\")\n",
    "dataset_ref = client.dataset(\"chicago_crime\", project=\"bigquery-public-data\")\n",
    "\n",
    "# API request - fetch the dataset\n",
    "# dataset = client.get_dataset(dataset_ref)\n",
    "dataset = client.get_dataset(dataset_ref)"
   ]
  },
  {
   "cell_type": "markdown",
   "id": "d298452f",
   "metadata": {
    "papermill": {
     "duration": 0.004909,
     "end_time": "2023-06-01T03:43:40.248322",
     "exception": false,
     "start_time": "2023-06-01T03:43:40.243413",
     "status": "completed"
    },
    "tags": []
   },
   "source": [
    "# Exercises\n",
    "\n",
    "### 1) Count tables in the dataset\n",
    "\n",
    "How many tables are in the Chicago Crime dataset?"
   ]
  },
  {
   "cell_type": "code",
   "execution_count": 3,
   "id": "22c6d522",
   "metadata": {
    "execution": {
     "iopub.execute_input": "2023-06-01T03:43:40.260298Z",
     "iopub.status.busy": "2023-06-01T03:43:40.259912Z",
     "iopub.status.idle": "2023-06-01T03:43:41.083055Z",
     "shell.execute_reply": "2023-06-01T03:43:41.081589Z"
    },
    "papermill": {
     "duration": 0.831798,
     "end_time": "2023-06-01T03:43:41.085158",
     "exception": false,
     "start_time": "2023-06-01T03:43:40.253360",
     "status": "completed"
    },
    "tags": []
   },
   "outputs": [
    {
     "name": "stdout",
     "output_type": "stream",
     "text": [
      "crime\n"
     ]
    }
   ],
   "source": [
    "# Write the code you need here to figure out the answer\n",
    "tables = list(client.list_tables(dataset))\n",
    "for table in tables:\n",
    "    print(table.table_id)"
   ]
  },
  {
   "cell_type": "code",
   "execution_count": 4,
   "id": "1e96e7a7",
   "metadata": {
    "execution": {
     "iopub.execute_input": "2023-06-01T03:43:41.097574Z",
     "iopub.status.busy": "2023-06-01T03:43:41.096970Z",
     "iopub.status.idle": "2023-06-01T03:43:41.106160Z",
     "shell.execute_reply": "2023-06-01T03:43:41.105141Z"
    },
    "papermill": {
     "duration": 0.01747,
     "end_time": "2023-06-01T03:43:41.108130",
     "exception": false,
     "start_time": "2023-06-01T03:43:41.090660",
     "status": "completed"
    },
    "tags": []
   },
   "outputs": [
    {
     "data": {
      "application/javascript": [
       "parent.postMessage({\"jupyterEvent\": \"custom.exercise_interaction\", \"data\": {\"outcomeType\": 1, \"valueTowardsCompletion\": 0.3333333333333333, \"interactionType\": 1, \"questionType\": 1, \"questionId\": \"1_CountTables\", \"learnToolsVersion\": \"0.3.4\", \"failureMessage\": \"\", \"exceptionClass\": \"\", \"trace\": \"\"}}, \"*\")"
      ],
      "text/plain": [
       "<IPython.core.display.Javascript object>"
      ]
     },
     "metadata": {},
     "output_type": "display_data"
    },
    {
     "data": {
      "text/markdown": [
       "<span style=\"color:#33cc33\">Correct</span>"
      ],
      "text/plain": [
       "Correct"
      ]
     },
     "metadata": {},
     "output_type": "display_data"
    }
   ],
   "source": [
    "num_tables = 1  # Store the answer as num_tables and then run this cell\n",
    "\n",
    "# Check your answer\n",
    "q_1.check()"
   ]
  },
  {
   "cell_type": "markdown",
   "id": "743c0810",
   "metadata": {
    "papermill": {
     "duration": 0.005128,
     "end_time": "2023-06-01T03:43:41.118854",
     "exception": false,
     "start_time": "2023-06-01T03:43:41.113726",
     "status": "completed"
    },
    "tags": []
   },
   "source": [
    "For a hint or the solution, uncomment the appropriate line below."
   ]
  },
  {
   "cell_type": "code",
   "execution_count": 5,
   "id": "0f6de9f0",
   "metadata": {
    "execution": {
     "iopub.execute_input": "2023-06-01T03:43:41.130971Z",
     "iopub.status.busy": "2023-06-01T03:43:41.130642Z",
     "iopub.status.idle": "2023-06-01T03:43:41.141044Z",
     "shell.execute_reply": "2023-06-01T03:43:41.140092Z"
    },
    "papermill": {
     "duration": 0.0191,
     "end_time": "2023-06-01T03:43:41.143206",
     "exception": false,
     "start_time": "2023-06-01T03:43:41.124106",
     "status": "completed"
    },
    "tags": []
   },
   "outputs": [
    {
     "data": {
      "application/javascript": [
       "parent.postMessage({\"jupyterEvent\": \"custom.exercise_interaction\", \"data\": {\"interactionType\": 2, \"questionType\": 1, \"questionId\": \"1_CountTables\", \"learnToolsVersion\": \"0.3.4\", \"valueTowardsCompletion\": 0.0, \"failureMessage\": \"\", \"exceptionClass\": \"\", \"trace\": \"\", \"outcomeType\": 4}}, \"*\")"
      ],
      "text/plain": [
       "<IPython.core.display.Javascript object>"
      ]
     },
     "metadata": {},
     "output_type": "display_data"
    },
    {
     "data": {
      "text/markdown": [
       "<span style=\"color:#3366cc\">Hint:</span> Use the `list_tables()` method to get a list of the tables in the dataset."
      ],
      "text/plain": [
       "Hint: Use the `list_tables()` method to get a list of the tables in the dataset."
      ]
     },
     "metadata": {},
     "output_type": "display_data"
    },
    {
     "data": {
      "application/javascript": [
       "parent.postMessage({\"jupyterEvent\": \"custom.exercise_interaction\", \"data\": {\"interactionType\": 3, \"questionType\": 1, \"questionId\": \"1_CountTables\", \"learnToolsVersion\": \"0.3.4\", \"valueTowardsCompletion\": 0.0, \"failureMessage\": \"\", \"exceptionClass\": \"\", \"trace\": \"\", \"outcomeType\": 4}}, \"*\")"
      ],
      "text/plain": [
       "<IPython.core.display.Javascript object>"
      ]
     },
     "metadata": {},
     "output_type": "display_data"
    },
    {
     "data": {
      "text/markdown": [
       "<span style=\"color:#33cc99\">Solution:</span> \n",
       "```python\n",
       "\n",
       "# List all the tables in the \"chicago_crime\" dataset\n",
       "tables = list(client.list_tables(dataset))\n",
       "\n",
       "# Print number of tables in the dataset\n",
       "print(len(tables))\n",
       "\n",
       "num_tables = 1\n",
       "\n",
       "```"
      ],
      "text/plain": [
       "Solution: \n",
       "```python\n",
       "\n",
       "# List all the tables in the \"chicago_crime\" dataset\n",
       "tables = list(client.list_tables(dataset))\n",
       "\n",
       "# Print number of tables in the dataset\n",
       "print(len(tables))\n",
       "\n",
       "num_tables = 1\n",
       "\n",
       "```"
      ]
     },
     "metadata": {},
     "output_type": "display_data"
    }
   ],
   "source": [
    "q_1.hint()\n",
    "q_1.solution()"
   ]
  },
  {
   "cell_type": "markdown",
   "id": "17967bb4",
   "metadata": {
    "papermill": {
     "duration": 0.005616,
     "end_time": "2023-06-01T03:43:41.154744",
     "exception": false,
     "start_time": "2023-06-01T03:43:41.149128",
     "status": "completed"
    },
    "tags": []
   },
   "source": [
    "### 2) Explore the table schema\n",
    "\n",
    "How many columns in the `crime` table have `TIMESTAMP` data?"
   ]
  },
  {
   "cell_type": "code",
   "execution_count": 6,
   "id": "0896c656",
   "metadata": {
    "execution": {
     "iopub.execute_input": "2023-06-01T03:43:41.168638Z",
     "iopub.status.busy": "2023-06-01T03:43:41.167735Z",
     "iopub.status.idle": "2023-06-01T03:43:41.606625Z",
     "shell.execute_reply": "2023-06-01T03:43:41.605531Z"
    },
    "papermill": {
     "duration": 0.448,
     "end_time": "2023-06-01T03:43:41.608709",
     "exception": false,
     "start_time": "2023-06-01T03:43:41.160709",
     "status": "completed"
    },
    "tags": []
   },
   "outputs": [
    {
     "name": "stdout",
     "output_type": "stream",
     "text": [
      "[SchemaField('unique_key', 'INTEGER', 'REQUIRED', None, (), None), SchemaField('case_number', 'STRING', 'NULLABLE', None, (), None), SchemaField('date', 'TIMESTAMP', 'NULLABLE', None, (), None), SchemaField('block', 'STRING', 'NULLABLE', None, (), None), SchemaField('iucr', 'STRING', 'NULLABLE', None, (), None), SchemaField('primary_type', 'STRING', 'NULLABLE', None, (), None), SchemaField('description', 'STRING', 'NULLABLE', None, (), None), SchemaField('location_description', 'STRING', 'NULLABLE', None, (), None), SchemaField('arrest', 'BOOLEAN', 'NULLABLE', None, (), None), SchemaField('domestic', 'BOOLEAN', 'NULLABLE', None, (), None), SchemaField('beat', 'INTEGER', 'NULLABLE', None, (), None), SchemaField('district', 'INTEGER', 'NULLABLE', None, (), None), SchemaField('ward', 'INTEGER', 'NULLABLE', None, (), None), SchemaField('community_area', 'INTEGER', 'NULLABLE', None, (), None), SchemaField('fbi_code', 'STRING', 'NULLABLE', None, (), None), SchemaField('x_coordinate', 'FLOAT', 'NULLABLE', None, (), None), SchemaField('y_coordinate', 'FLOAT', 'NULLABLE', None, (), None), SchemaField('year', 'INTEGER', 'NULLABLE', None, (), None), SchemaField('updated_on', 'TIMESTAMP', 'NULLABLE', None, (), None), SchemaField('latitude', 'FLOAT', 'NULLABLE', None, (), None), SchemaField('longitude', 'FLOAT', 'NULLABLE', None, (), None), SchemaField('location', 'STRING', 'NULLABLE', None, (), None)]\n",
      "-----\n"
     ]
    },
    {
     "data": {
      "text/plain": [
       "[SchemaField('unique_key', 'INTEGER', 'REQUIRED', None, (), None),\n",
       " SchemaField('case_number', 'STRING', 'NULLABLE', None, (), None),\n",
       " SchemaField('date', 'TIMESTAMP', 'NULLABLE', None, (), None),\n",
       " SchemaField('block', 'STRING', 'NULLABLE', None, (), None),\n",
       " SchemaField('iucr', 'STRING', 'NULLABLE', None, (), None),\n",
       " SchemaField('primary_type', 'STRING', 'NULLABLE', None, (), None),\n",
       " SchemaField('description', 'STRING', 'NULLABLE', None, (), None),\n",
       " SchemaField('location_description', 'STRING', 'NULLABLE', None, (), None),\n",
       " SchemaField('arrest', 'BOOLEAN', 'NULLABLE', None, (), None),\n",
       " SchemaField('domestic', 'BOOLEAN', 'NULLABLE', None, (), None),\n",
       " SchemaField('beat', 'INTEGER', 'NULLABLE', None, (), None),\n",
       " SchemaField('district', 'INTEGER', 'NULLABLE', None, (), None),\n",
       " SchemaField('ward', 'INTEGER', 'NULLABLE', None, (), None),\n",
       " SchemaField('community_area', 'INTEGER', 'NULLABLE', None, (), None),\n",
       " SchemaField('fbi_code', 'STRING', 'NULLABLE', None, (), None),\n",
       " SchemaField('x_coordinate', 'FLOAT', 'NULLABLE', None, (), None),\n",
       " SchemaField('y_coordinate', 'FLOAT', 'NULLABLE', None, (), None),\n",
       " SchemaField('year', 'INTEGER', 'NULLABLE', None, (), None),\n",
       " SchemaField('updated_on', 'TIMESTAMP', 'NULLABLE', None, (), None),\n",
       " SchemaField('latitude', 'FLOAT', 'NULLABLE', None, (), None),\n",
       " SchemaField('longitude', 'FLOAT', 'NULLABLE', None, (), None),\n",
       " SchemaField('location', 'STRING', 'NULLABLE', None, (), None)]"
      ]
     },
     "execution_count": 6,
     "metadata": {},
     "output_type": "execute_result"
    }
   ],
   "source": [
    "# Write the code to figure out the answer\n",
    "# Construct a reference to the \"crime\" table\n",
    "table_ref = dataset_ref.table(\"crime\")\n",
    "\n",
    "# API request - fetch the table\n",
    "table = client.get_table(table_ref)\n",
    "\n",
    "# Print information on all the columns in the \"crime\" table in the \"chicago_crime\" dataset\n",
    "print(table.schema)\n",
    "print('-----')\n",
    "table.schema"
   ]
  },
  {
   "cell_type": "code",
   "execution_count": 7,
   "id": "d2950e73",
   "metadata": {
    "execution": {
     "iopub.execute_input": "2023-06-01T03:43:41.623009Z",
     "iopub.status.busy": "2023-06-01T03:43:41.622645Z",
     "iopub.status.idle": "2023-06-01T03:43:41.630671Z",
     "shell.execute_reply": "2023-06-01T03:43:41.629547Z"
    },
    "papermill": {
     "duration": 0.017644,
     "end_time": "2023-06-01T03:43:41.632577",
     "exception": false,
     "start_time": "2023-06-01T03:43:41.614933",
     "status": "completed"
    },
    "tags": []
   },
   "outputs": [
    {
     "data": {
      "application/javascript": [
       "parent.postMessage({\"jupyterEvent\": \"custom.exercise_interaction\", \"data\": {\"outcomeType\": 1, \"valueTowardsCompletion\": 0.3333333333333333, \"interactionType\": 1, \"questionType\": 1, \"questionId\": \"2_CountTimestampFields\", \"learnToolsVersion\": \"0.3.4\", \"failureMessage\": \"\", \"exceptionClass\": \"\", \"trace\": \"\"}}, \"*\")"
      ],
      "text/plain": [
       "<IPython.core.display.Javascript object>"
      ]
     },
     "metadata": {},
     "output_type": "display_data"
    },
    {
     "data": {
      "text/markdown": [
       "<span style=\"color:#33cc33\">Correct</span>"
      ],
      "text/plain": [
       "Correct"
      ]
     },
     "metadata": {},
     "output_type": "display_data"
    }
   ],
   "source": [
    "num_timestamp_fields = 2 # Put your answer here\n",
    "\n",
    "# Check your answer\n",
    "q_2.check()"
   ]
  },
  {
   "cell_type": "markdown",
   "id": "07fbfbe3",
   "metadata": {
    "papermill": {
     "duration": 0.006298,
     "end_time": "2023-06-01T03:43:41.645462",
     "exception": false,
     "start_time": "2023-06-01T03:43:41.639164",
     "status": "completed"
    },
    "tags": []
   },
   "source": [
    "For a hint or the solution, uncomment the appropriate line below."
   ]
  },
  {
   "cell_type": "code",
   "execution_count": 8,
   "id": "faef41d7",
   "metadata": {
    "execution": {
     "iopub.execute_input": "2023-06-01T03:43:41.660327Z",
     "iopub.status.busy": "2023-06-01T03:43:41.659425Z",
     "iopub.status.idle": "2023-06-01T03:43:41.670535Z",
     "shell.execute_reply": "2023-06-01T03:43:41.669381Z"
    },
    "papermill": {
     "duration": 0.020818,
     "end_time": "2023-06-01T03:43:41.672592",
     "exception": false,
     "start_time": "2023-06-01T03:43:41.651774",
     "status": "completed"
    },
    "tags": []
   },
   "outputs": [
    {
     "data": {
      "application/javascript": [
       "parent.postMessage({\"jupyterEvent\": \"custom.exercise_interaction\", \"data\": {\"interactionType\": 2, \"questionType\": 1, \"questionId\": \"2_CountTimestampFields\", \"learnToolsVersion\": \"0.3.4\", \"valueTowardsCompletion\": 0.0, \"failureMessage\": \"\", \"exceptionClass\": \"\", \"trace\": \"\", \"outcomeType\": 4}}, \"*\")"
      ],
      "text/plain": [
       "<IPython.core.display.Javascript object>"
      ]
     },
     "metadata": {},
     "output_type": "display_data"
    },
    {
     "data": {
      "text/markdown": [
       "<span style=\"color:#3366cc\">Hint:</span> Begin by fetching the `crime` table. Then take a look at the table schema, and check the field type of each column.  How many times does `'TIMESTAMP'` appear?"
      ],
      "text/plain": [
       "Hint: Begin by fetching the `crime` table. Then take a look at the table schema, and check the field type of each column.  How many times does `'TIMESTAMP'` appear?"
      ]
     },
     "metadata": {},
     "output_type": "display_data"
    },
    {
     "data": {
      "application/javascript": [
       "parent.postMessage({\"jupyterEvent\": \"custom.exercise_interaction\", \"data\": {\"interactionType\": 3, \"questionType\": 1, \"questionId\": \"2_CountTimestampFields\", \"learnToolsVersion\": \"0.3.4\", \"valueTowardsCompletion\": 0.0, \"failureMessage\": \"\", \"exceptionClass\": \"\", \"trace\": \"\", \"outcomeType\": 4}}, \"*\")"
      ],
      "text/plain": [
       "<IPython.core.display.Javascript object>"
      ]
     },
     "metadata": {},
     "output_type": "display_data"
    },
    {
     "data": {
      "text/markdown": [
       "<span style=\"color:#33cc99\">Solution:</span> \n",
       "```python\n",
       "\n",
       "# Construct a reference to the \"crime\" table\n",
       "table_ref = dataset_ref.table(\"crime\")\n",
       "\n",
       "# API request - fetch the table\n",
       "table = client.get_table(table_ref)\n",
       "\n",
       "# Print information on all the columns in the \"crime\" table in the \"chicago_crime\" dataset\n",
       "print(table.schema)\n",
       "\n",
       "num_timestamp_fields = 2\n",
       "\n",
       "```"
      ],
      "text/plain": [
       "Solution: \n",
       "```python\n",
       "\n",
       "# Construct a reference to the \"crime\" table\n",
       "table_ref = dataset_ref.table(\"crime\")\n",
       "\n",
       "# API request - fetch the table\n",
       "table = client.get_table(table_ref)\n",
       "\n",
       "# Print information on all the columns in the \"crime\" table in the \"chicago_crime\" dataset\n",
       "print(table.schema)\n",
       "\n",
       "num_timestamp_fields = 2\n",
       "\n",
       "```"
      ]
     },
     "metadata": {},
     "output_type": "display_data"
    }
   ],
   "source": [
    "q_2.hint()\n",
    "q_2.solution()"
   ]
  },
  {
   "cell_type": "markdown",
   "id": "049fb89f",
   "metadata": {
    "papermill": {
     "duration": 0.006737,
     "end_time": "2023-06-01T03:43:41.686591",
     "exception": false,
     "start_time": "2023-06-01T03:43:41.679854",
     "status": "completed"
    },
    "tags": []
   },
   "source": [
    "### 3) Create a crime map\n",
    "\n",
    "If you wanted to create a map with a dot at the location of each crime, what are the names of the two fields you likely need to pull out of the `crime` table to plot the crimes on a map?"
   ]
  },
  {
   "cell_type": "code",
   "execution_count": 9,
   "id": "49f22483",
   "metadata": {
    "execution": {
     "iopub.execute_input": "2023-06-01T03:43:41.701955Z",
     "iopub.status.busy": "2023-06-01T03:43:41.701555Z",
     "iopub.status.idle": "2023-06-01T03:43:41.708046Z",
     "shell.execute_reply": "2023-06-01T03:43:41.707207Z"
    },
    "papermill": {
     "duration": 0.016622,
     "end_time": "2023-06-01T03:43:41.709945",
     "exception": false,
     "start_time": "2023-06-01T03:43:41.693323",
     "status": "completed"
    },
    "tags": []
   },
   "outputs": [
    {
     "data": {
      "text/plain": [
       "[SchemaField('unique_key', 'INTEGER', 'REQUIRED', None, (), None),\n",
       " SchemaField('case_number', 'STRING', 'NULLABLE', None, (), None),\n",
       " SchemaField('date', 'TIMESTAMP', 'NULLABLE', None, (), None),\n",
       " SchemaField('block', 'STRING', 'NULLABLE', None, (), None),\n",
       " SchemaField('iucr', 'STRING', 'NULLABLE', None, (), None),\n",
       " SchemaField('primary_type', 'STRING', 'NULLABLE', None, (), None),\n",
       " SchemaField('description', 'STRING', 'NULLABLE', None, (), None),\n",
       " SchemaField('location_description', 'STRING', 'NULLABLE', None, (), None),\n",
       " SchemaField('arrest', 'BOOLEAN', 'NULLABLE', None, (), None),\n",
       " SchemaField('domestic', 'BOOLEAN', 'NULLABLE', None, (), None),\n",
       " SchemaField('beat', 'INTEGER', 'NULLABLE', None, (), None),\n",
       " SchemaField('district', 'INTEGER', 'NULLABLE', None, (), None),\n",
       " SchemaField('ward', 'INTEGER', 'NULLABLE', None, (), None),\n",
       " SchemaField('community_area', 'INTEGER', 'NULLABLE', None, (), None),\n",
       " SchemaField('fbi_code', 'STRING', 'NULLABLE', None, (), None),\n",
       " SchemaField('x_coordinate', 'FLOAT', 'NULLABLE', None, (), None),\n",
       " SchemaField('y_coordinate', 'FLOAT', 'NULLABLE', None, (), None),\n",
       " SchemaField('year', 'INTEGER', 'NULLABLE', None, (), None),\n",
       " SchemaField('updated_on', 'TIMESTAMP', 'NULLABLE', None, (), None),\n",
       " SchemaField('latitude', 'FLOAT', 'NULLABLE', None, (), None),\n",
       " SchemaField('longitude', 'FLOAT', 'NULLABLE', None, (), None),\n",
       " SchemaField('location', 'STRING', 'NULLABLE', None, (), None)]"
      ]
     },
     "execution_count": 9,
     "metadata": {},
     "output_type": "execute_result"
    }
   ],
   "source": [
    "# Write the code here to explore the data so you can find the answer\n",
    "table.schema"
   ]
  },
  {
   "cell_type": "code",
   "execution_count": 10,
   "id": "86d1a4d9",
   "metadata": {
    "execution": {
     "iopub.execute_input": "2023-06-01T03:43:41.727254Z",
     "iopub.status.busy": "2023-06-01T03:43:41.726492Z",
     "iopub.status.idle": "2023-06-01T03:43:41.733761Z",
     "shell.execute_reply": "2023-06-01T03:43:41.733080Z"
    },
    "papermill": {
     "duration": 0.018032,
     "end_time": "2023-06-01T03:43:41.735610",
     "exception": false,
     "start_time": "2023-06-01T03:43:41.717578",
     "status": "completed"
    },
    "tags": []
   },
   "outputs": [
    {
     "data": {
      "application/javascript": [
       "parent.postMessage({\"jupyterEvent\": \"custom.exercise_interaction\", \"data\": {\"outcomeType\": 1, \"valueTowardsCompletion\": 0.3333333333333333, \"interactionType\": 1, \"questionType\": 2, \"questionId\": \"3_IdentifyFieldsForPlotting\", \"learnToolsVersion\": \"0.3.4\", \"failureMessage\": \"\", \"exceptionClass\": \"\", \"trace\": \"\"}}, \"*\")"
      ],
      "text/plain": [
       "<IPython.core.display.Javascript object>"
      ]
     },
     "metadata": {},
     "output_type": "display_data"
    },
    {
     "data": {
      "text/markdown": [
       "<span style=\"color:#33cc33\">Correct</span>"
      ],
      "text/plain": [
       "Correct"
      ]
     },
     "metadata": {},
     "output_type": "display_data"
    }
   ],
   "source": [
    "fields_for_plotting = ['latitude', 'longitude'] # Put your answers here\n",
    "\n",
    "# Check your answer\n",
    "q_3.check()"
   ]
  },
  {
   "cell_type": "markdown",
   "id": "b5226306",
   "metadata": {
    "papermill": {
     "duration": 0.007122,
     "end_time": "2023-06-01T03:43:41.750430",
     "exception": false,
     "start_time": "2023-06-01T03:43:41.743308",
     "status": "completed"
    },
    "tags": []
   },
   "source": [
    "For a hint or the solution, uncomment the appropriate line below."
   ]
  },
  {
   "cell_type": "code",
   "execution_count": 11,
   "id": "364c006e",
   "metadata": {
    "execution": {
     "iopub.execute_input": "2023-06-01T03:43:41.767283Z",
     "iopub.status.busy": "2023-06-01T03:43:41.766594Z",
     "iopub.status.idle": "2023-06-01T03:43:41.777615Z",
     "shell.execute_reply": "2023-06-01T03:43:41.776816Z"
    },
    "papermill": {
     "duration": 0.021324,
     "end_time": "2023-06-01T03:43:41.779379",
     "exception": false,
     "start_time": "2023-06-01T03:43:41.758055",
     "status": "completed"
    },
    "tags": []
   },
   "outputs": [
    {
     "data": {
      "application/javascript": [
       "parent.postMessage({\"jupyterEvent\": \"custom.exercise_interaction\", \"data\": {\"interactionType\": 2, \"questionType\": 2, \"questionId\": \"3_IdentifyFieldsForPlotting\", \"learnToolsVersion\": \"0.3.4\", \"valueTowardsCompletion\": 0.0, \"failureMessage\": \"\", \"exceptionClass\": \"\", \"trace\": \"\", \"outcomeType\": 4}}, \"*\")"
      ],
      "text/plain": [
       "<IPython.core.display.Javascript object>"
      ]
     },
     "metadata": {},
     "output_type": "display_data"
    },
    {
     "data": {
      "text/markdown": [
       "<span style=\"color:#3366cc\">Hint:</span> Look at the table schema.  There are a couple options, but two of the fields are things commonly used to plot on maps. Both are `'FLOAT'` types. Use quotes around the field names in your answer."
      ],
      "text/plain": [
       "Hint: Look at the table schema.  There are a couple options, but two of the fields are things commonly used to plot on maps. Both are `'FLOAT'` types. Use quotes around the field names in your answer."
      ]
     },
     "metadata": {},
     "output_type": "display_data"
    },
    {
     "data": {
      "application/javascript": [
       "parent.postMessage({\"jupyterEvent\": \"custom.exercise_interaction\", \"data\": {\"interactionType\": 3, \"questionType\": 2, \"questionId\": \"3_IdentifyFieldsForPlotting\", \"learnToolsVersion\": \"0.3.4\", \"valueTowardsCompletion\": 0.0, \"failureMessage\": \"\", \"exceptionClass\": \"\", \"trace\": \"\", \"outcomeType\": 4}}, \"*\")"
      ],
      "text/plain": [
       "<IPython.core.display.Javascript object>"
      ]
     },
     "metadata": {},
     "output_type": "display_data"
    },
    {
     "data": {
      "text/markdown": [
       "<span style=\"color:#33cc99\">Solution:</span> \n",
       "```python\n",
       "fields_for_plotting = ['latitude', 'longitude']\n",
       "```"
      ],
      "text/plain": [
       "Solution: \n",
       "```python\n",
       "fields_for_plotting = ['latitude', 'longitude']\n",
       "```"
      ]
     },
     "metadata": {},
     "output_type": "display_data"
    }
   ],
   "source": [
    "q_3.hint()\n",
    "q_3.solution()"
   ]
  },
  {
   "cell_type": "markdown",
   "id": "f9458263",
   "metadata": {
    "papermill": {
     "duration": 0.007544,
     "end_time": "2023-06-01T03:43:41.794720",
     "exception": false,
     "start_time": "2023-06-01T03:43:41.787176",
     "status": "completed"
    },
    "tags": []
   },
   "source": [
    "Thinking about the question above, there are a few columns that appear to have geographic data. Look at a few values (with the `list_rows()` command) to see if you can determine their relationship.  Two columns will still be hard to interpret. But it should be obvious how the `location` column relates to `latitude` and `longitude`."
   ]
  },
  {
   "cell_type": "code",
   "execution_count": 12,
   "id": "b088f155",
   "metadata": {
    "execution": {
     "iopub.execute_input": "2023-06-01T03:43:41.811618Z",
     "iopub.status.busy": "2023-06-01T03:43:41.811224Z",
     "iopub.status.idle": "2023-06-01T03:43:43.640820Z",
     "shell.execute_reply": "2023-06-01T03:43:43.640098Z"
    },
    "papermill": {
     "duration": 1.840351,
     "end_time": "2023-06-01T03:43:43.642713",
     "exception": false,
     "start_time": "2023-06-01T03:43:41.802362",
     "status": "completed"
    },
    "tags": []
   },
   "outputs": [
    {
     "name": "stdout",
     "output_type": "stream",
     "text": [
      "   unique_key case_number                      date                 block  \\\n",
      "0       26345    JE395709 2021-10-02 06:44:00+00:00      001XX E 107TH ST   \n",
      "1     6063232    HP161447 2008-02-06 01:00:00+00:00  105XX S MICHIGAN AVE   \n",
      "2     8308596    HT527097 2011-10-04 01:25:00+00:00     106XX S PERRY AVE   \n",
      "3    12135953    JD332831 2020-08-14 11:04:00+00:00   103XX S HARVARD AVE   \n",
      "4     3400725    HK457739 2004-06-27 03:28:00+00:00      007XX E 104TH PL   \n",
      "\n",
      "   iucr         primary_type                     description  \\\n",
      "0  0110             HOMICIDE             FIRST DEGREE MURDER   \n",
      "1  0281  CRIM SEXUAL ASSAULT                  NON-AGGRAVATED   \n",
      "2  0313              ROBBERY   ARMED: OTHER DANGEROUS WEAPON   \n",
      "3  0313              ROBBERY  ARMED - OTHER DANGEROUS WEAPON   \n",
      "4  0313              ROBBERY   ARMED: OTHER DANGEROUS WEAPON   \n",
      "\n",
      "     location_description  arrest  domestic  ...  ward  community_area  \\\n",
      "0                   HOUSE   False     False  ...     9              49   \n",
      "1  VEHICLE NON-COMMERCIAL   False     False  ...     9              49   \n",
      "2                  STREET   False     False  ...    34              49   \n",
      "3                  STREET   False     False  ...    34              49   \n",
      "4                   ALLEY   False     False  ...     9              50   \n",
      "\n",
      "   fbi_code  x_coordinate y_coordinate  year                updated_on  \\\n",
      "0       01A     1178985.0    1834047.0  2021 2022-09-18 04:45:51+00:00   \n",
      "1        02     1178853.0    1835179.0  2008 2018-02-10 03:50:01+00:00   \n",
      "2        03     1177490.0    1834194.0  2011 2016-02-04 06:33:39+00:00   \n",
      "3        03     1175628.0    1836454.0  2020 2020-08-21 03:53:36+00:00   \n",
      "4        03     1182778.0    1835817.0  2004 2018-02-28 03:56:25+00:00   \n",
      "\n",
      "    latitude  longitude                       location  \n",
      "0  41.699915 -87.620245  (41.699915337, -87.620245268)  \n",
      "1  41.703025 -87.620694    (41.7030247, -87.620694297)  \n",
      "2  41.700353 -87.625715   (41.700352563, -87.62571489)  \n",
      "3  41.706596 -87.632465  (41.706596109, -87.632465439)  \n",
      "4  41.704685 -87.606302   (41.704685428, -87.60630227)  \n",
      "\n",
      "[5 rows x 22 columns]\n"
     ]
    },
    {
     "data": {
      "text/html": [
       "<div>\n",
       "<style scoped>\n",
       "    .dataframe tbody tr th:only-of-type {\n",
       "        vertical-align: middle;\n",
       "    }\n",
       "\n",
       "    .dataframe tbody tr th {\n",
       "        vertical-align: top;\n",
       "    }\n",
       "\n",
       "    .dataframe thead th {\n",
       "        text-align: right;\n",
       "    }\n",
       "</style>\n",
       "<table border=\"1\" class=\"dataframe\">\n",
       "  <thead>\n",
       "    <tr style=\"text-align: right;\">\n",
       "      <th></th>\n",
       "      <th>location</th>\n",
       "    </tr>\n",
       "  </thead>\n",
       "  <tbody>\n",
       "    <tr>\n",
       "      <th>0</th>\n",
       "      <td>(41.699915337, -87.620245268)</td>\n",
       "    </tr>\n",
       "    <tr>\n",
       "      <th>1</th>\n",
       "      <td>(41.7030247, -87.620694297)</td>\n",
       "    </tr>\n",
       "    <tr>\n",
       "      <th>2</th>\n",
       "      <td>(41.700352563, -87.62571489)</td>\n",
       "    </tr>\n",
       "    <tr>\n",
       "      <th>3</th>\n",
       "      <td>(41.706596109, -87.632465439)</td>\n",
       "    </tr>\n",
       "    <tr>\n",
       "      <th>4</th>\n",
       "      <td>(41.704685428, -87.60630227)</td>\n",
       "    </tr>\n",
       "  </tbody>\n",
       "</table>\n",
       "</div>"
      ],
      "text/plain": [
       "                        location\n",
       "0  (41.699915337, -87.620245268)\n",
       "1    (41.7030247, -87.620694297)\n",
       "2   (41.700352563, -87.62571489)\n",
       "3  (41.706596109, -87.632465439)\n",
       "4   (41.704685428, -87.60630227)"
      ]
     },
     "execution_count": 12,
     "metadata": {},
     "output_type": "execute_result"
    }
   ],
   "source": [
    "# Scratch space for your code\n",
    "\n",
    "# Preview the first five lines of the \"crime\" table\n",
    "client.list_rows(table, max_results=5).to_dataframe()\n",
    "print(client.list_rows(table, max_results=5).to_dataframe())\n",
    "\n",
    "# Preview the first five entries in the \"location\" column of the \"crime\" table\n",
    "client.list_rows(table, selected_fields=table.schema[21:], max_results=5).to_dataframe()"
   ]
  },
  {
   "cell_type": "markdown",
   "id": "a425e610",
   "metadata": {
    "papermill": {
     "duration": 0.008355,
     "end_time": "2023-06-01T03:43:43.659200",
     "exception": false,
     "start_time": "2023-06-01T03:43:43.650845",
     "status": "completed"
    },
    "tags": []
   },
   "source": [
    "# Keep going\n",
    "\n",
    "You've looked at the schema, but you haven't yet done anything exciting with the data itself. Things get more interesting when you get to the data, so keep going to **[write your first SQL query](https://www.kaggle.com/dansbecker/select-from-where).**"
   ]
  },
  {
   "cell_type": "markdown",
   "id": "bbbbe5f2",
   "metadata": {
    "papermill": {
     "duration": 0.007856,
     "end_time": "2023-06-01T03:43:43.675089",
     "exception": false,
     "start_time": "2023-06-01T03:43:43.667233",
     "status": "completed"
    },
    "tags": []
   },
   "source": [
    "---\n",
    "\n",
    "\n",
    "\n",
    "\n",
    "*Have questions or comments? Visit the [course discussion forum](https://www.kaggle.com/learn/intro-to-sql/discussion) to chat with other learners.*"
   ]
  }
 ],
 "metadata": {
  "kernelspec": {
   "display_name": "Python 3",
   "language": "python",
   "name": "python3"
  },
  "language_info": {
   "codemirror_mode": {
    "name": "ipython",
    "version": 3
   },
   "file_extension": ".py",
   "mimetype": "text/x-python",
   "name": "python",
   "nbconvert_exporter": "python",
   "pygments_lexer": "ipython3",
   "version": "3.10.10"
  },
  "papermill": {
   "default_parameters": {},
   "duration": 15.998382,
   "end_time": "2023-06-01T03:43:44.504654",
   "environment_variables": {},
   "exception": null,
   "input_path": "__notebook__.ipynb",
   "output_path": "__notebook__.ipynb",
   "parameters": {},
   "start_time": "2023-06-01T03:43:28.506272",
   "version": "2.4.0"
  }
 },
 "nbformat": 4,
 "nbformat_minor": 5
}
