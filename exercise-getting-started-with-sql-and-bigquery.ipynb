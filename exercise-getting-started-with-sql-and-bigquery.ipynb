{
 "cells": [
  {
   "cell_type": "markdown",
   "id": "02d26a38",
   "metadata": {
    "papermill": {
     "duration": 0.008041,
     "end_time": "2023-05-30T17:58:08.997763",
     "exception": false,
     "start_time": "2023-05-30T17:58:08.989722",
     "status": "completed"
    },
    "tags": []
   },
   "source": [
    "**This notebook is an exercise in the [SQL](https://www.kaggle.com/learn/intro-to-sql) course.  You can reference the tutorial at [this link](https://www.kaggle.com/dansbecker/getting-started-with-sql-and-bigquery).**\n",
    "\n",
    "---\n"
   ]
  },
  {
   "cell_type": "markdown",
   "id": "a6a95a96",
   "metadata": {
    "papermill": {
     "duration": 0.007007,
     "end_time": "2023-05-30T17:58:09.013131",
     "exception": false,
     "start_time": "2023-05-30T17:58:09.006124",
     "status": "completed"
    },
    "tags": []
   },
   "source": [
    "# Introduction\n",
    "\n",
    "The first test of your new data exploration skills uses data describing crime in the city of Chicago.\n",
    "\n",
    "Before you get started, run the following cell. It sets up the automated feedback system to review your answers."
   ]
  },
  {
   "cell_type": "code",
   "execution_count": 1,
   "id": "5da621fd",
   "metadata": {
    "execution": {
     "iopub.execute_input": "2023-05-30T17:58:09.030335Z",
     "iopub.status.busy": "2023-05-30T17:58:09.029593Z",
     "iopub.status.idle": "2023-05-30T17:58:09.901766Z",
     "shell.execute_reply": "2023-05-30T17:58:09.899981Z"
    },
    "papermill": {
     "duration": 0.884102,
     "end_time": "2023-05-30T17:58:09.904502",
     "exception": false,
     "start_time": "2023-05-30T17:58:09.020400",
     "status": "completed"
    },
    "tags": []
   },
   "outputs": [
    {
     "name": "stdout",
     "output_type": "stream",
     "text": [
      "Using Kaggle's public dataset BigQuery integration.\n",
      "Setup Complete\n"
     ]
    }
   ],
   "source": [
    "# Set up feedack system\n",
    "from learntools.core import binder\n",
    "binder.bind(globals())\n",
    "from learntools.sql.ex1 import *\n",
    "print(\"Setup Complete\")"
   ]
  },
  {
   "cell_type": "markdown",
   "id": "9fc78bab",
   "metadata": {
    "papermill": {
     "duration": 0.007255,
     "end_time": "2023-05-30T17:58:09.919333",
     "exception": false,
     "start_time": "2023-05-30T17:58:09.912078",
     "status": "completed"
    },
    "tags": []
   },
   "source": [
    "Use the next code cell to fetch the dataset."
   ]
  },
  {
   "cell_type": "code",
   "execution_count": 2,
   "id": "3d5764c0",
   "metadata": {
    "execution": {
     "iopub.execute_input": "2023-05-30T17:58:09.936033Z",
     "iopub.status.busy": "2023-05-30T17:58:09.935629Z",
     "iopub.status.idle": "2023-05-30T17:58:10.251146Z",
     "shell.execute_reply": "2023-05-30T17:58:10.249897Z"
    },
    "papermill": {
     "duration": 0.327186,
     "end_time": "2023-05-30T17:58:10.254040",
     "exception": false,
     "start_time": "2023-05-30T17:58:09.926854",
     "status": "completed"
    },
    "tags": []
   },
   "outputs": [
    {
     "name": "stdout",
     "output_type": "stream",
     "text": [
      "Using Kaggle's public dataset BigQuery integration.\n"
     ]
    }
   ],
   "source": [
    "# from google.cloud import bigquery\n",
    "from google.cloud import bigquery\n",
    "\n",
    "# Create a \"Client\" object\n",
    "# client = bigquery.Client()\n",
    "client = bigquery.Client()\n",
    "\n",
    "# Construct a reference to the \"chicago_crime\" dataset\n",
    "# dataset_ref = client.dataset(\"chicago_crime\", project=\"bigquery-public-data\")\n",
    "dataset_ref = client.dataset(\"chicago_crime\", project=\"bigquery-public-data\")\n",
    "\n",
    "# API request - fetch the dataset\n",
    "# dataset = client.get_dataset(dataset_ref)\n",
    "dataset = client.get_dataset(dataset_ref)"
   ]
  },
  {
   "cell_type": "markdown",
   "id": "31f949d3",
   "metadata": {
    "papermill": {
     "duration": 0.007318,
     "end_time": "2023-05-30T17:58:10.270697",
     "exception": false,
     "start_time": "2023-05-30T17:58:10.263379",
     "status": "completed"
    },
    "tags": []
   },
   "source": [
    "# Exercises\n",
    "\n",
    "### 1) Count tables in the dataset\n",
    "\n",
    "How many tables are in the Chicago Crime dataset?"
   ]
  },
  {
   "cell_type": "code",
   "execution_count": 3,
   "id": "7468838c",
   "metadata": {
    "execution": {
     "iopub.execute_input": "2023-05-30T17:58:10.288489Z",
     "iopub.status.busy": "2023-05-30T17:58:10.288106Z",
     "iopub.status.idle": "2023-05-30T17:58:10.516114Z",
     "shell.execute_reply": "2023-05-30T17:58:10.514814Z"
    },
    "papermill": {
     "duration": 0.240219,
     "end_time": "2023-05-30T17:58:10.518854",
     "exception": false,
     "start_time": "2023-05-30T17:58:10.278635",
     "status": "completed"
    },
    "tags": []
   },
   "outputs": [
    {
     "name": "stdout",
     "output_type": "stream",
     "text": [
      "crime\n"
     ]
    }
   ],
   "source": [
    "# Write the code you need here to figure out the answer\n",
    "tables = list(client.list_tables(dataset))\n",
    "for table in tables:\n",
    "    print(table.table_id)"
   ]
  },
  {
   "cell_type": "code",
   "execution_count": 4,
   "id": "a29291f2",
   "metadata": {
    "execution": {
     "iopub.execute_input": "2023-05-30T17:58:10.536202Z",
     "iopub.status.busy": "2023-05-30T17:58:10.535756Z",
     "iopub.status.idle": "2023-05-30T17:58:10.548039Z",
     "shell.execute_reply": "2023-05-30T17:58:10.546828Z"
    },
    "papermill": {
     "duration": 0.024139,
     "end_time": "2023-05-30T17:58:10.550637",
     "exception": false,
     "start_time": "2023-05-30T17:58:10.526498",
     "status": "completed"
    },
    "tags": []
   },
   "outputs": [
    {
     "data": {
      "application/javascript": [
       "parent.postMessage({\"jupyterEvent\": \"custom.exercise_interaction\", \"data\": {\"outcomeType\": 1, \"valueTowardsCompletion\": 0.3333333333333333, \"interactionType\": 1, \"questionType\": 1, \"questionId\": \"1_CountTables\", \"learnToolsVersion\": \"0.3.4\", \"failureMessage\": \"\", \"exceptionClass\": \"\", \"trace\": \"\"}}, \"*\")"
      ],
      "text/plain": [
       "<IPython.core.display.Javascript object>"
      ]
     },
     "metadata": {},
     "output_type": "display_data"
    },
    {
     "data": {
      "text/markdown": [
       "<span style=\"color:#33cc33\">Correct</span>"
      ],
      "text/plain": [
       "Correct"
      ]
     },
     "metadata": {},
     "output_type": "display_data"
    }
   ],
   "source": [
    "num_tables = 1  # Store the answer as num_tables and then run this cell\n",
    "\n",
    "# Check your answer\n",
    "q_1.check()"
   ]
  },
  {
   "cell_type": "markdown",
   "id": "48062851",
   "metadata": {
    "papermill": {
     "duration": 0.007836,
     "end_time": "2023-05-30T17:58:10.566868",
     "exception": false,
     "start_time": "2023-05-30T17:58:10.559032",
     "status": "completed"
    },
    "tags": []
   },
   "source": [
    "For a hint or the solution, uncomment the appropriate line below."
   ]
  },
  {
   "cell_type": "code",
   "execution_count": 5,
   "id": "55598d53",
   "metadata": {
    "execution": {
     "iopub.execute_input": "2023-05-30T17:58:10.585504Z",
     "iopub.status.busy": "2023-05-30T17:58:10.585117Z",
     "iopub.status.idle": "2023-05-30T17:58:10.599011Z",
     "shell.execute_reply": "2023-05-30T17:58:10.597812Z"
    },
    "papermill": {
     "duration": 0.026871,
     "end_time": "2023-05-30T17:58:10.601818",
     "exception": false,
     "start_time": "2023-05-30T17:58:10.574947",
     "status": "completed"
    },
    "tags": []
   },
   "outputs": [
    {
     "data": {
      "application/javascript": [
       "parent.postMessage({\"jupyterEvent\": \"custom.exercise_interaction\", \"data\": {\"interactionType\": 2, \"questionType\": 1, \"questionId\": \"1_CountTables\", \"learnToolsVersion\": \"0.3.4\", \"valueTowardsCompletion\": 0.0, \"failureMessage\": \"\", \"exceptionClass\": \"\", \"trace\": \"\", \"outcomeType\": 4}}, \"*\")"
      ],
      "text/plain": [
       "<IPython.core.display.Javascript object>"
      ]
     },
     "metadata": {},
     "output_type": "display_data"
    },
    {
     "data": {
      "text/markdown": [
       "<span style=\"color:#3366cc\">Hint:</span> Use the `list_tables()` method to get a list of the tables in the dataset."
      ],
      "text/plain": [
       "Hint: Use the `list_tables()` method to get a list of the tables in the dataset."
      ]
     },
     "metadata": {},
     "output_type": "display_data"
    },
    {
     "data": {
      "application/javascript": [
       "parent.postMessage({\"jupyterEvent\": \"custom.exercise_interaction\", \"data\": {\"interactionType\": 3, \"questionType\": 1, \"questionId\": \"1_CountTables\", \"learnToolsVersion\": \"0.3.4\", \"valueTowardsCompletion\": 0.0, \"failureMessage\": \"\", \"exceptionClass\": \"\", \"trace\": \"\", \"outcomeType\": 4}}, \"*\")"
      ],
      "text/plain": [
       "<IPython.core.display.Javascript object>"
      ]
     },
     "metadata": {},
     "output_type": "display_data"
    },
    {
     "data": {
      "text/markdown": [
       "<span style=\"color:#33cc99\">Solution:</span> \n",
       "```python\n",
       "\n",
       "# List all the tables in the \"chicago_crime\" dataset\n",
       "tables = list(client.list_tables(dataset))\n",
       "\n",
       "# Print number of tables in the dataset\n",
       "print(len(tables))\n",
       "\n",
       "num_tables = 1\n",
       "\n",
       "```"
      ],
      "text/plain": [
       "Solution: \n",
       "```python\n",
       "\n",
       "# List all the tables in the \"chicago_crime\" dataset\n",
       "tables = list(client.list_tables(dataset))\n",
       "\n",
       "# Print number of tables in the dataset\n",
       "print(len(tables))\n",
       "\n",
       "num_tables = 1\n",
       "\n",
       "```"
      ]
     },
     "metadata": {},
     "output_type": "display_data"
    }
   ],
   "source": [
    "q_1.hint()\n",
    "q_1.solution()"
   ]
  },
  {
   "cell_type": "markdown",
   "id": "f157a268",
   "metadata": {
    "papermill": {
     "duration": 0.009272,
     "end_time": "2023-05-30T17:58:10.620127",
     "exception": false,
     "start_time": "2023-05-30T17:58:10.610855",
     "status": "completed"
    },
    "tags": []
   },
   "source": [
    "### 2) Explore the table schema\n",
    "\n",
    "How many columns in the `crime` table have `TIMESTAMP` data?"
   ]
  },
  {
   "cell_type": "code",
   "execution_count": 6,
   "id": "3a6a0561",
   "metadata": {
    "execution": {
     "iopub.execute_input": "2023-05-30T17:58:10.641375Z",
     "iopub.status.busy": "2023-05-30T17:58:10.640659Z",
     "iopub.status.idle": "2023-05-30T17:58:10.861310Z",
     "shell.execute_reply": "2023-05-30T17:58:10.859796Z"
    },
    "papermill": {
     "duration": 0.234892,
     "end_time": "2023-05-30T17:58:10.864105",
     "exception": false,
     "start_time": "2023-05-30T17:58:10.629213",
     "status": "completed"
    },
    "tags": []
   },
   "outputs": [
    {
     "name": "stdout",
     "output_type": "stream",
     "text": [
      "[SchemaField('unique_key', 'INTEGER', 'REQUIRED', None, (), None), SchemaField('case_number', 'STRING', 'NULLABLE', None, (), None), SchemaField('date', 'TIMESTAMP', 'NULLABLE', None, (), None), SchemaField('block', 'STRING', 'NULLABLE', None, (), None), SchemaField('iucr', 'STRING', 'NULLABLE', None, (), None), SchemaField('primary_type', 'STRING', 'NULLABLE', None, (), None), SchemaField('description', 'STRING', 'NULLABLE', None, (), None), SchemaField('location_description', 'STRING', 'NULLABLE', None, (), None), SchemaField('arrest', 'BOOLEAN', 'NULLABLE', None, (), None), SchemaField('domestic', 'BOOLEAN', 'NULLABLE', None, (), None), SchemaField('beat', 'INTEGER', 'NULLABLE', None, (), None), SchemaField('district', 'INTEGER', 'NULLABLE', None, (), None), SchemaField('ward', 'INTEGER', 'NULLABLE', None, (), None), SchemaField('community_area', 'INTEGER', 'NULLABLE', None, (), None), SchemaField('fbi_code', 'STRING', 'NULLABLE', None, (), None), SchemaField('x_coordinate', 'FLOAT', 'NULLABLE', None, (), None), SchemaField('y_coordinate', 'FLOAT', 'NULLABLE', None, (), None), SchemaField('year', 'INTEGER', 'NULLABLE', None, (), None), SchemaField('updated_on', 'TIMESTAMP', 'NULLABLE', None, (), None), SchemaField('latitude', 'FLOAT', 'NULLABLE', None, (), None), SchemaField('longitude', 'FLOAT', 'NULLABLE', None, (), None), SchemaField('location', 'STRING', 'NULLABLE', None, (), None)]\n",
      "-----\n"
     ]
    },
    {
     "data": {
      "text/plain": [
       "[SchemaField('unique_key', 'INTEGER', 'REQUIRED', None, (), None),\n",
       " SchemaField('case_number', 'STRING', 'NULLABLE', None, (), None),\n",
       " SchemaField('date', 'TIMESTAMP', 'NULLABLE', None, (), None),\n",
       " SchemaField('block', 'STRING', 'NULLABLE', None, (), None),\n",
       " SchemaField('iucr', 'STRING', 'NULLABLE', None, (), None),\n",
       " SchemaField('primary_type', 'STRING', 'NULLABLE', None, (), None),\n",
       " SchemaField('description', 'STRING', 'NULLABLE', None, (), None),\n",
       " SchemaField('location_description', 'STRING', 'NULLABLE', None, (), None),\n",
       " SchemaField('arrest', 'BOOLEAN', 'NULLABLE', None, (), None),\n",
       " SchemaField('domestic', 'BOOLEAN', 'NULLABLE', None, (), None),\n",
       " SchemaField('beat', 'INTEGER', 'NULLABLE', None, (), None),\n",
       " SchemaField('district', 'INTEGER', 'NULLABLE', None, (), None),\n",
       " SchemaField('ward', 'INTEGER', 'NULLABLE', None, (), None),\n",
       " SchemaField('community_area', 'INTEGER', 'NULLABLE', None, (), None),\n",
       " SchemaField('fbi_code', 'STRING', 'NULLABLE', None, (), None),\n",
       " SchemaField('x_coordinate', 'FLOAT', 'NULLABLE', None, (), None),\n",
       " SchemaField('y_coordinate', 'FLOAT', 'NULLABLE', None, (), None),\n",
       " SchemaField('year', 'INTEGER', 'NULLABLE', None, (), None),\n",
       " SchemaField('updated_on', 'TIMESTAMP', 'NULLABLE', None, (), None),\n",
       " SchemaField('latitude', 'FLOAT', 'NULLABLE', None, (), None),\n",
       " SchemaField('longitude', 'FLOAT', 'NULLABLE', None, (), None),\n",
       " SchemaField('location', 'STRING', 'NULLABLE', None, (), None)]"
      ]
     },
     "execution_count": 6,
     "metadata": {},
     "output_type": "execute_result"
    }
   ],
   "source": [
    "# Write the code to figure out the answer\n",
    "# Construct a reference to the \"crime\" table\n",
    "table_ref = dataset_ref.table(\"crime\")\n",
    "\n",
    "# API request - fetch the table\n",
    "table = client.get_table(table_ref)\n",
    "\n",
    "# Print information on all the columns in the \"crime\" table in the \"chicago_crime\" dataset\n",
    "print(table.schema)\n",
    "print('-----')\n",
    "table.schema"
   ]
  },
  {
   "cell_type": "code",
   "execution_count": 7,
   "id": "489f1b4b",
   "metadata": {
    "execution": {
     "iopub.execute_input": "2023-05-30T17:58:10.884406Z",
     "iopub.status.busy": "2023-05-30T17:58:10.884017Z",
     "iopub.status.idle": "2023-05-30T17:58:10.894363Z",
     "shell.execute_reply": "2023-05-30T17:58:10.892839Z"
    },
    "papermill": {
     "duration": 0.023866,
     "end_time": "2023-05-30T17:58:10.897507",
     "exception": false,
     "start_time": "2023-05-30T17:58:10.873641",
     "status": "completed"
    },
    "tags": []
   },
   "outputs": [
    {
     "data": {
      "application/javascript": [
       "parent.postMessage({\"jupyterEvent\": \"custom.exercise_interaction\", \"data\": {\"outcomeType\": 1, \"valueTowardsCompletion\": 0.3333333333333333, \"interactionType\": 1, \"questionType\": 1, \"questionId\": \"2_CountTimestampFields\", \"learnToolsVersion\": \"0.3.4\", \"failureMessage\": \"\", \"exceptionClass\": \"\", \"trace\": \"\"}}, \"*\")"
      ],
      "text/plain": [
       "<IPython.core.display.Javascript object>"
      ]
     },
     "metadata": {},
     "output_type": "display_data"
    },
    {
     "data": {
      "text/markdown": [
       "<span style=\"color:#33cc33\">Correct</span>"
      ],
      "text/plain": [
       "Correct"
      ]
     },
     "metadata": {},
     "output_type": "display_data"
    }
   ],
   "source": [
    "num_timestamp_fields = 2 # Put your answer here\n",
    "\n",
    "# Check your answer\n",
    "q_2.check()"
   ]
  },
  {
   "cell_type": "markdown",
   "id": "ed1643c8",
   "metadata": {
    "papermill": {
     "duration": 0.008973,
     "end_time": "2023-05-30T17:58:10.916386",
     "exception": false,
     "start_time": "2023-05-30T17:58:10.907413",
     "status": "completed"
    },
    "tags": []
   },
   "source": [
    "For a hint or the solution, uncomment the appropriate line below."
   ]
  },
  {
   "cell_type": "code",
   "execution_count": 8,
   "id": "75b7c7dc",
   "metadata": {
    "execution": {
     "iopub.execute_input": "2023-05-30T17:58:10.936993Z",
     "iopub.status.busy": "2023-05-30T17:58:10.936178Z",
     "iopub.status.idle": "2023-05-30T17:58:10.952211Z",
     "shell.execute_reply": "2023-05-30T17:58:10.950752Z"
    },
    "papermill": {
     "duration": 0.029088,
     "end_time": "2023-05-30T17:58:10.954675",
     "exception": false,
     "start_time": "2023-05-30T17:58:10.925587",
     "status": "completed"
    },
    "tags": []
   },
   "outputs": [
    {
     "data": {
      "application/javascript": [
       "parent.postMessage({\"jupyterEvent\": \"custom.exercise_interaction\", \"data\": {\"interactionType\": 2, \"questionType\": 1, \"questionId\": \"2_CountTimestampFields\", \"learnToolsVersion\": \"0.3.4\", \"valueTowardsCompletion\": 0.0, \"failureMessage\": \"\", \"exceptionClass\": \"\", \"trace\": \"\", \"outcomeType\": 4}}, \"*\")"
      ],
      "text/plain": [
       "<IPython.core.display.Javascript object>"
      ]
     },
     "metadata": {},
     "output_type": "display_data"
    },
    {
     "data": {
      "text/markdown": [
       "<span style=\"color:#3366cc\">Hint:</span> Begin by fetching the `crime` table. Then take a look at the table schema, and check the field type of each column.  How many times does `'TIMESTAMP'` appear?"
      ],
      "text/plain": [
       "Hint: Begin by fetching the `crime` table. Then take a look at the table schema, and check the field type of each column.  How many times does `'TIMESTAMP'` appear?"
      ]
     },
     "metadata": {},
     "output_type": "display_data"
    },
    {
     "data": {
      "application/javascript": [
       "parent.postMessage({\"jupyterEvent\": \"custom.exercise_interaction\", \"data\": {\"interactionType\": 3, \"questionType\": 1, \"questionId\": \"2_CountTimestampFields\", \"learnToolsVersion\": \"0.3.4\", \"valueTowardsCompletion\": 0.0, \"failureMessage\": \"\", \"exceptionClass\": \"\", \"trace\": \"\", \"outcomeType\": 4}}, \"*\")"
      ],
      "text/plain": [
       "<IPython.core.display.Javascript object>"
      ]
     },
     "metadata": {},
     "output_type": "display_data"
    },
    {
     "data": {
      "text/markdown": [
       "<span style=\"color:#33cc99\">Solution:</span> \n",
       "```python\n",
       "\n",
       "# Construct a reference to the \"crime\" table\n",
       "table_ref = dataset_ref.table(\"crime\")\n",
       "\n",
       "# API request - fetch the table\n",
       "table = client.get_table(table_ref)\n",
       "\n",
       "# Print information on all the columns in the \"crime\" table in the \"chicago_crime\" dataset\n",
       "print(table.schema)\n",
       "\n",
       "num_timestamp_fields = 2\n",
       "\n",
       "```"
      ],
      "text/plain": [
       "Solution: \n",
       "```python\n",
       "\n",
       "# Construct a reference to the \"crime\" table\n",
       "table_ref = dataset_ref.table(\"crime\")\n",
       "\n",
       "# API request - fetch the table\n",
       "table = client.get_table(table_ref)\n",
       "\n",
       "# Print information on all the columns in the \"crime\" table in the \"chicago_crime\" dataset\n",
       "print(table.schema)\n",
       "\n",
       "num_timestamp_fields = 2\n",
       "\n",
       "```"
      ]
     },
     "metadata": {},
     "output_type": "display_data"
    }
   ],
   "source": [
    "q_2.hint()\n",
    "q_2.solution()"
   ]
  },
  {
   "cell_type": "markdown",
   "id": "89acd3ef",
   "metadata": {
    "papermill": {
     "duration": 0.009967,
     "end_time": "2023-05-30T17:58:10.974860",
     "exception": false,
     "start_time": "2023-05-30T17:58:10.964893",
     "status": "completed"
    },
    "tags": []
   },
   "source": [
    "### 3) Create a crime map\n",
    "\n",
    "If you wanted to create a map with a dot at the location of each crime, what are the names of the two fields you likely need to pull out of the `crime` table to plot the crimes on a map?"
   ]
  },
  {
   "cell_type": "code",
   "execution_count": 9,
   "id": "0627092e",
   "metadata": {
    "execution": {
     "iopub.execute_input": "2023-05-30T17:58:10.997393Z",
     "iopub.status.busy": "2023-05-30T17:58:10.996969Z",
     "iopub.status.idle": "2023-05-30T17:58:11.001732Z",
     "shell.execute_reply": "2023-05-30T17:58:11.000730Z"
    },
    "papermill": {
     "duration": 0.019288,
     "end_time": "2023-05-30T17:58:11.004202",
     "exception": false,
     "start_time": "2023-05-30T17:58:10.984914",
     "status": "completed"
    },
    "tags": []
   },
   "outputs": [],
   "source": [
    "# Write the code here to explore the data so you can find the answer"
   ]
  },
  {
   "cell_type": "code",
   "execution_count": 10,
   "id": "bc08817b",
   "metadata": {
    "execution": {
     "iopub.execute_input": "2023-05-30T17:58:11.026186Z",
     "iopub.status.busy": "2023-05-30T17:58:11.025761Z",
     "iopub.status.idle": "2023-05-30T17:58:11.036024Z",
     "shell.execute_reply": "2023-05-30T17:58:11.034724Z"
    },
    "papermill": {
     "duration": 0.024782,
     "end_time": "2023-05-30T17:58:11.039230",
     "exception": false,
     "start_time": "2023-05-30T17:58:11.014448",
     "status": "completed"
    },
    "tags": []
   },
   "outputs": [
    {
     "data": {
      "application/javascript": [
       "parent.postMessage({\"jupyterEvent\": \"custom.exercise_interaction\", \"data\": {\"outcomeType\": 1, \"valueTowardsCompletion\": 0.3333333333333333, \"interactionType\": 1, \"questionType\": 2, \"questionId\": \"3_IdentifyFieldsForPlotting\", \"learnToolsVersion\": \"0.3.4\", \"failureMessage\": \"\", \"exceptionClass\": \"\", \"trace\": \"\"}}, \"*\")"
      ],
      "text/plain": [
       "<IPython.core.display.Javascript object>"
      ]
     },
     "metadata": {},
     "output_type": "display_data"
    },
    {
     "data": {
      "text/markdown": [
       "<span style=\"color:#33cc33\">Correct</span>"
      ],
      "text/plain": [
       "Correct"
      ]
     },
     "metadata": {},
     "output_type": "display_data"
    }
   ],
   "source": [
    "fields_for_plotting = ['latitude', 'longitude'] # Put your answers here\n",
    "\n",
    "# Check your answer\n",
    "q_3.check()"
   ]
  },
  {
   "cell_type": "markdown",
   "id": "5710a588",
   "metadata": {
    "papermill": {
     "duration": 0.010303,
     "end_time": "2023-05-30T17:58:11.060121",
     "exception": false,
     "start_time": "2023-05-30T17:58:11.049818",
     "status": "completed"
    },
    "tags": []
   },
   "source": [
    "For a hint or the solution, uncomment the appropriate line below."
   ]
  },
  {
   "cell_type": "code",
   "execution_count": 11,
   "id": "d73afd07",
   "metadata": {
    "execution": {
     "iopub.execute_input": "2023-05-30T17:58:11.083421Z",
     "iopub.status.busy": "2023-05-30T17:58:11.082498Z",
     "iopub.status.idle": "2023-05-30T17:58:11.096951Z",
     "shell.execute_reply": "2023-05-30T17:58:11.095763Z"
    },
    "papermill": {
     "duration": 0.028989,
     "end_time": "2023-05-30T17:58:11.099706",
     "exception": false,
     "start_time": "2023-05-30T17:58:11.070717",
     "status": "completed"
    },
    "tags": []
   },
   "outputs": [
    {
     "data": {
      "application/javascript": [
       "parent.postMessage({\"jupyterEvent\": \"custom.exercise_interaction\", \"data\": {\"interactionType\": 2, \"questionType\": 2, \"questionId\": \"3_IdentifyFieldsForPlotting\", \"learnToolsVersion\": \"0.3.4\", \"valueTowardsCompletion\": 0.0, \"failureMessage\": \"\", \"exceptionClass\": \"\", \"trace\": \"\", \"outcomeType\": 4}}, \"*\")"
      ],
      "text/plain": [
       "<IPython.core.display.Javascript object>"
      ]
     },
     "metadata": {},
     "output_type": "display_data"
    },
    {
     "data": {
      "text/markdown": [
       "<span style=\"color:#3366cc\">Hint:</span> Look at the table schema.  There are a couple options, but two of the fields are things commonly used to plot on maps. Both are `'FLOAT'` types. Use quotes around the field names in your answer."
      ],
      "text/plain": [
       "Hint: Look at the table schema.  There are a couple options, but two of the fields are things commonly used to plot on maps. Both are `'FLOAT'` types. Use quotes around the field names in your answer."
      ]
     },
     "metadata": {},
     "output_type": "display_data"
    },
    {
     "data": {
      "application/javascript": [
       "parent.postMessage({\"jupyterEvent\": \"custom.exercise_interaction\", \"data\": {\"interactionType\": 3, \"questionType\": 2, \"questionId\": \"3_IdentifyFieldsForPlotting\", \"learnToolsVersion\": \"0.3.4\", \"valueTowardsCompletion\": 0.0, \"failureMessage\": \"\", \"exceptionClass\": \"\", \"trace\": \"\", \"outcomeType\": 4}}, \"*\")"
      ],
      "text/plain": [
       "<IPython.core.display.Javascript object>"
      ]
     },
     "metadata": {},
     "output_type": "display_data"
    },
    {
     "data": {
      "text/markdown": [
       "<span style=\"color:#33cc99\">Solution:</span> \n",
       "```python\n",
       "fields_for_plotting = ['latitude', 'longitude']\n",
       "```"
      ],
      "text/plain": [
       "Solution: \n",
       "```python\n",
       "fields_for_plotting = ['latitude', 'longitude']\n",
       "```"
      ]
     },
     "metadata": {},
     "output_type": "display_data"
    }
   ],
   "source": [
    "q_3.hint()\n",
    "q_3.solution()"
   ]
  },
  {
   "cell_type": "markdown",
   "id": "3a84fa64",
   "metadata": {
    "papermill": {
     "duration": 0.010722,
     "end_time": "2023-05-30T17:58:11.121528",
     "exception": false,
     "start_time": "2023-05-30T17:58:11.110806",
     "status": "completed"
    },
    "tags": []
   },
   "source": [
    "Thinking about the question above, there are a few columns that appear to have geographic data. Look at a few values (with the `list_rows()` command) to see if you can determine their relationship.  Two columns will still be hard to interpret. But it should be obvious how the `location` column relates to `latitude` and `longitude`."
   ]
  },
  {
   "cell_type": "code",
   "execution_count": 12,
   "id": "6afbe545",
   "metadata": {
    "execution": {
     "iopub.execute_input": "2023-05-30T17:58:11.145767Z",
     "iopub.status.busy": "2023-05-30T17:58:11.145307Z",
     "iopub.status.idle": "2023-05-30T17:58:11.661789Z",
     "shell.execute_reply": "2023-05-30T17:58:11.660623Z"
    },
    "papermill": {
     "duration": 0.531347,
     "end_time": "2023-05-30T17:58:11.664386",
     "exception": false,
     "start_time": "2023-05-30T17:58:11.133039",
     "status": "completed"
    },
    "tags": []
   },
   "outputs": [
    {
     "data": {
      "text/html": [
       "<div>\n",
       "<style scoped>\n",
       "    .dataframe tbody tr th:only-of-type {\n",
       "        vertical-align: middle;\n",
       "    }\n",
       "\n",
       "    .dataframe tbody tr th {\n",
       "        vertical-align: top;\n",
       "    }\n",
       "\n",
       "    .dataframe thead th {\n",
       "        text-align: right;\n",
       "    }\n",
       "</style>\n",
       "<table border=\"1\" class=\"dataframe\">\n",
       "  <thead>\n",
       "    <tr style=\"text-align: right;\">\n",
       "      <th></th>\n",
       "      <th>unique_key</th>\n",
       "      <th>case_number</th>\n",
       "      <th>date</th>\n",
       "      <th>block</th>\n",
       "      <th>iucr</th>\n",
       "      <th>primary_type</th>\n",
       "      <th>description</th>\n",
       "      <th>location_description</th>\n",
       "      <th>arrest</th>\n",
       "      <th>domestic</th>\n",
       "      <th>...</th>\n",
       "      <th>ward</th>\n",
       "      <th>community_area</th>\n",
       "      <th>fbi_code</th>\n",
       "      <th>x_coordinate</th>\n",
       "      <th>y_coordinate</th>\n",
       "      <th>year</th>\n",
       "      <th>updated_on</th>\n",
       "      <th>latitude</th>\n",
       "      <th>longitude</th>\n",
       "      <th>location</th>\n",
       "    </tr>\n",
       "  </thead>\n",
       "  <tbody>\n",
       "    <tr>\n",
       "      <th>0</th>\n",
       "      <td>24014</td>\n",
       "      <td>JB313093</td>\n",
       "      <td>2018-06-19 02:20:00+00:00</td>\n",
       "      <td>000XX W 103RD ST</td>\n",
       "      <td>0110</td>\n",
       "      <td>HOMICIDE</td>\n",
       "      <td>FIRST DEGREE MURDER</td>\n",
       "      <td>HOTEL</td>\n",
       "      <td>False</td>\n",
       "      <td>False</td>\n",
       "      <td>...</td>\n",
       "      <td>34</td>\n",
       "      <td>49</td>\n",
       "      <td>01A</td>\n",
       "      <td>1177576.0</td>\n",
       "      <td>1836668.0</td>\n",
       "      <td>2018</td>\n",
       "      <td>2022-09-18 04:45:51+00:00</td>\n",
       "      <td>41.707140</td>\n",
       "      <td>-87.625326</td>\n",
       "      <td>(41.707139627, -87.625325518)</td>\n",
       "    </tr>\n",
       "    <tr>\n",
       "      <th>1</th>\n",
       "      <td>7840501</td>\n",
       "      <td>HS629378</td>\n",
       "      <td>2010-11-18 06:00:00+00:00</td>\n",
       "      <td>105XX S WENTWORTH AVE</td>\n",
       "      <td>0265</td>\n",
       "      <td>CRIM SEXUAL ASSAULT</td>\n",
       "      <td>AGGRAVATED: OTHER</td>\n",
       "      <td>ALLEY</td>\n",
       "      <td>False</td>\n",
       "      <td>False</td>\n",
       "      <td>...</td>\n",
       "      <td>34</td>\n",
       "      <td>49</td>\n",
       "      <td>02</td>\n",
       "      <td>1176810.0</td>\n",
       "      <td>1835237.0</td>\n",
       "      <td>2010</td>\n",
       "      <td>2016-02-04 06:33:39+00:00</td>\n",
       "      <td>41.703230</td>\n",
       "      <td>-87.628174</td>\n",
       "      <td>(41.703230009, -87.628173505)</td>\n",
       "    </tr>\n",
       "    <tr>\n",
       "      <th>2</th>\n",
       "      <td>6294878</td>\n",
       "      <td>HP242986</td>\n",
       "      <td>2008-03-11 12:00:00+00:00</td>\n",
       "      <td>006XX E 105TH PL</td>\n",
       "      <td>0266</td>\n",
       "      <td>CRIM SEXUAL ASSAULT</td>\n",
       "      <td>PREDATORY</td>\n",
       "      <td>RESIDENCE</td>\n",
       "      <td>False</td>\n",
       "      <td>True</td>\n",
       "      <td>...</td>\n",
       "      <td>9</td>\n",
       "      <td>50</td>\n",
       "      <td>02</td>\n",
       "      <td>1182684.0</td>\n",
       "      <td>1835148.0</td>\n",
       "      <td>2008</td>\n",
       "      <td>2018-02-10 03:50:01+00:00</td>\n",
       "      <td>41.702852</td>\n",
       "      <td>-87.606667</td>\n",
       "      <td>(41.702851783, -87.606667153)</td>\n",
       "    </tr>\n",
       "    <tr>\n",
       "      <th>3</th>\n",
       "      <td>4481954</td>\n",
       "      <td>HL782838</td>\n",
       "      <td>2005-12-10 08:00:00+00:00</td>\n",
       "      <td>105XX S EDBROOKE AVE</td>\n",
       "      <td>0281</td>\n",
       "      <td>CRIM SEXUAL ASSAULT</td>\n",
       "      <td>NON-AGGRAVATED</td>\n",
       "      <td>APARTMENT</td>\n",
       "      <td>False</td>\n",
       "      <td>False</td>\n",
       "      <td>...</td>\n",
       "      <td>9</td>\n",
       "      <td>49</td>\n",
       "      <td>02</td>\n",
       "      <td>1179134.0</td>\n",
       "      <td>1835100.0</td>\n",
       "      <td>2005</td>\n",
       "      <td>2018-02-28 03:56:25+00:00</td>\n",
       "      <td>41.702802</td>\n",
       "      <td>-87.619668</td>\n",
       "      <td>(41.702801528, -87.619667745)</td>\n",
       "    </tr>\n",
       "    <tr>\n",
       "      <th>4</th>\n",
       "      <td>7207848</td>\n",
       "      <td>HR622289</td>\n",
       "      <td>2009-11-02 03:19:00+00:00</td>\n",
       "      <td>0000X W 103RD PL</td>\n",
       "      <td>0281</td>\n",
       "      <td>CRIM SEXUAL ASSAULT</td>\n",
       "      <td>NON-AGGRAVATED</td>\n",
       "      <td>RESIDENCE-GARAGE</td>\n",
       "      <td>False</td>\n",
       "      <td>False</td>\n",
       "      <td>...</td>\n",
       "      <td>34</td>\n",
       "      <td>49</td>\n",
       "      <td>02</td>\n",
       "      <td>1177771.0</td>\n",
       "      <td>1836341.0</td>\n",
       "      <td>2009</td>\n",
       "      <td>2018-02-28 03:56:25+00:00</td>\n",
       "      <td>41.706238</td>\n",
       "      <td>-87.624621</td>\n",
       "      <td>(41.706237892, -87.624621287)</td>\n",
       "    </tr>\n",
       "    <tr>\n",
       "      <th>5</th>\n",
       "      <td>3465283</td>\n",
       "      <td>HK534831</td>\n",
       "      <td>2004-08-03 07:30:00+00:00</td>\n",
       "      <td>0000X E 104TH ST</td>\n",
       "      <td>0281</td>\n",
       "      <td>CRIM SEXUAL ASSAULT</td>\n",
       "      <td>NON-AGGRAVATED</td>\n",
       "      <td>ALLEY</td>\n",
       "      <td>False</td>\n",
       "      <td>False</td>\n",
       "      <td>...</td>\n",
       "      <td>9</td>\n",
       "      <td>49</td>\n",
       "      <td>02</td>\n",
       "      <td>1178611.0</td>\n",
       "      <td>1836032.0</td>\n",
       "      <td>2004</td>\n",
       "      <td>2018-02-28 03:56:25+00:00</td>\n",
       "      <td>41.705371</td>\n",
       "      <td>-87.621555</td>\n",
       "      <td>(41.705370942, -87.621554623)</td>\n",
       "    </tr>\n",
       "    <tr>\n",
       "      <th>6</th>\n",
       "      <td>12873618</td>\n",
       "      <td>JF451649</td>\n",
       "      <td>2022-10-27 02:30:00+00:00</td>\n",
       "      <td>106XX S STATE ST</td>\n",
       "      <td>0312</td>\n",
       "      <td>ROBBERY</td>\n",
       "      <td>ARMED - KNIFE / CUTTING INSTRUMENT</td>\n",
       "      <td>SMALL RETAIL STORE</td>\n",
       "      <td>False</td>\n",
       "      <td>False</td>\n",
       "      <td>...</td>\n",
       "      <td>34</td>\n",
       "      <td>49</td>\n",
       "      <td>03</td>\n",
       "      <td>1178142.0</td>\n",
       "      <td>1834202.0</td>\n",
       "      <td>2022</td>\n",
       "      <td>2023-01-03 03:46:28+00:00</td>\n",
       "      <td>41.700360</td>\n",
       "      <td>-87.623327</td>\n",
       "      <td>(41.700359791, -87.62332729)</td>\n",
       "    </tr>\n",
       "    <tr>\n",
       "      <th>7</th>\n",
       "      <td>11073634</td>\n",
       "      <td>JA413864</td>\n",
       "      <td>2017-08-31 07:48:00+00:00</td>\n",
       "      <td>004XX E 103RD ST</td>\n",
       "      <td>0313</td>\n",
       "      <td>ROBBERY</td>\n",
       "      <td>ARMED: OTHER DANGEROUS WEAPON</td>\n",
       "      <td>OTHER</td>\n",
       "      <td>False</td>\n",
       "      <td>False</td>\n",
       "      <td>...</td>\n",
       "      <td>9</td>\n",
       "      <td>49</td>\n",
       "      <td>03</td>\n",
       "      <td>1180874.0</td>\n",
       "      <td>1836762.0</td>\n",
       "      <td>2017</td>\n",
       "      <td>2018-02-10 03:50:01+00:00</td>\n",
       "      <td>41.707323</td>\n",
       "      <td>-87.613245</td>\n",
       "      <td>(41.707322531, -87.613245456)</td>\n",
       "    </tr>\n",
       "    <tr>\n",
       "      <th>8</th>\n",
       "      <td>11680101</td>\n",
       "      <td>JC253578</td>\n",
       "      <td>2019-05-06 06:00:00+00:00</td>\n",
       "      <td>106XX S PERRY AVE</td>\n",
       "      <td>0313</td>\n",
       "      <td>ROBBERY</td>\n",
       "      <td>ARMED: OTHER DANGEROUS WEAPON</td>\n",
       "      <td>STREET</td>\n",
       "      <td>False</td>\n",
       "      <td>False</td>\n",
       "      <td>...</td>\n",
       "      <td>34</td>\n",
       "      <td>49</td>\n",
       "      <td>03</td>\n",
       "      <td>1177480.0</td>\n",
       "      <td>1834562.0</td>\n",
       "      <td>2019</td>\n",
       "      <td>2019-05-13 04:13:25+00:00</td>\n",
       "      <td>41.701363</td>\n",
       "      <td>-87.625740</td>\n",
       "      <td>(41.701362632, -87.625740435)</td>\n",
       "    </tr>\n",
       "    <tr>\n",
       "      <th>9</th>\n",
       "      <td>3728708</td>\n",
       "      <td>HK799937</td>\n",
       "      <td>2004-12-09 07:38:42+00:00</td>\n",
       "      <td>003XX W 105TH PL</td>\n",
       "      <td>031A</td>\n",
       "      <td>ROBBERY</td>\n",
       "      <td>ARMED: HANDGUN</td>\n",
       "      <td>RESIDENCE</td>\n",
       "      <td>False</td>\n",
       "      <td>False</td>\n",
       "      <td>...</td>\n",
       "      <td>34</td>\n",
       "      <td>49</td>\n",
       "      <td>03</td>\n",
       "      <td>1175961.0</td>\n",
       "      <td>1834968.0</td>\n",
       "      <td>2004</td>\n",
       "      <td>2018-02-28 03:56:25+00:00</td>\n",
       "      <td>41.702511</td>\n",
       "      <td>-87.631290</td>\n",
       "      <td>(41.702510868, -87.63129037)</td>\n",
       "    </tr>\n",
       "  </tbody>\n",
       "</table>\n",
       "<p>10 rows × 22 columns</p>\n",
       "</div>"
      ],
      "text/plain": [
       "   unique_key case_number                      date                  block  \\\n",
       "0       24014    JB313093 2018-06-19 02:20:00+00:00       000XX W 103RD ST   \n",
       "1     7840501    HS629378 2010-11-18 06:00:00+00:00  105XX S WENTWORTH AVE   \n",
       "2     6294878    HP242986 2008-03-11 12:00:00+00:00       006XX E 105TH PL   \n",
       "3     4481954    HL782838 2005-12-10 08:00:00+00:00   105XX S EDBROOKE AVE   \n",
       "4     7207848    HR622289 2009-11-02 03:19:00+00:00       0000X W 103RD PL   \n",
       "5     3465283    HK534831 2004-08-03 07:30:00+00:00       0000X E 104TH ST   \n",
       "6    12873618    JF451649 2022-10-27 02:30:00+00:00       106XX S STATE ST   \n",
       "7    11073634    JA413864 2017-08-31 07:48:00+00:00       004XX E 103RD ST   \n",
       "8    11680101    JC253578 2019-05-06 06:00:00+00:00      106XX S PERRY AVE   \n",
       "9     3728708    HK799937 2004-12-09 07:38:42+00:00       003XX W 105TH PL   \n",
       "\n",
       "   iucr         primary_type                         description  \\\n",
       "0  0110             HOMICIDE                 FIRST DEGREE MURDER   \n",
       "1  0265  CRIM SEXUAL ASSAULT                   AGGRAVATED: OTHER   \n",
       "2  0266  CRIM SEXUAL ASSAULT                           PREDATORY   \n",
       "3  0281  CRIM SEXUAL ASSAULT                      NON-AGGRAVATED   \n",
       "4  0281  CRIM SEXUAL ASSAULT                      NON-AGGRAVATED   \n",
       "5  0281  CRIM SEXUAL ASSAULT                      NON-AGGRAVATED   \n",
       "6  0312              ROBBERY  ARMED - KNIFE / CUTTING INSTRUMENT   \n",
       "7  0313              ROBBERY       ARMED: OTHER DANGEROUS WEAPON   \n",
       "8  0313              ROBBERY       ARMED: OTHER DANGEROUS WEAPON   \n",
       "9  031A              ROBBERY                      ARMED: HANDGUN   \n",
       "\n",
       "  location_description  arrest  domestic  ...  ward  community_area  fbi_code  \\\n",
       "0                HOTEL   False     False  ...    34              49       01A   \n",
       "1                ALLEY   False     False  ...    34              49        02   \n",
       "2            RESIDENCE   False      True  ...     9              50        02   \n",
       "3            APARTMENT   False     False  ...     9              49        02   \n",
       "4     RESIDENCE-GARAGE   False     False  ...    34              49        02   \n",
       "5                ALLEY   False     False  ...     9              49        02   \n",
       "6   SMALL RETAIL STORE   False     False  ...    34              49        03   \n",
       "7                OTHER   False     False  ...     9              49        03   \n",
       "8               STREET   False     False  ...    34              49        03   \n",
       "9            RESIDENCE   False     False  ...    34              49        03   \n",
       "\n",
       "   x_coordinate y_coordinate  year                updated_on   latitude  \\\n",
       "0     1177576.0    1836668.0  2018 2022-09-18 04:45:51+00:00  41.707140   \n",
       "1     1176810.0    1835237.0  2010 2016-02-04 06:33:39+00:00  41.703230   \n",
       "2     1182684.0    1835148.0  2008 2018-02-10 03:50:01+00:00  41.702852   \n",
       "3     1179134.0    1835100.0  2005 2018-02-28 03:56:25+00:00  41.702802   \n",
       "4     1177771.0    1836341.0  2009 2018-02-28 03:56:25+00:00  41.706238   \n",
       "5     1178611.0    1836032.0  2004 2018-02-28 03:56:25+00:00  41.705371   \n",
       "6     1178142.0    1834202.0  2022 2023-01-03 03:46:28+00:00  41.700360   \n",
       "7     1180874.0    1836762.0  2017 2018-02-10 03:50:01+00:00  41.707323   \n",
       "8     1177480.0    1834562.0  2019 2019-05-13 04:13:25+00:00  41.701363   \n",
       "9     1175961.0    1834968.0  2004 2018-02-28 03:56:25+00:00  41.702511   \n",
       "\n",
       "   longitude                       location  \n",
       "0 -87.625326  (41.707139627, -87.625325518)  \n",
       "1 -87.628174  (41.703230009, -87.628173505)  \n",
       "2 -87.606667  (41.702851783, -87.606667153)  \n",
       "3 -87.619668  (41.702801528, -87.619667745)  \n",
       "4 -87.624621  (41.706237892, -87.624621287)  \n",
       "5 -87.621555  (41.705370942, -87.621554623)  \n",
       "6 -87.623327   (41.700359791, -87.62332729)  \n",
       "7 -87.613245  (41.707322531, -87.613245456)  \n",
       "8 -87.625740  (41.701362632, -87.625740435)  \n",
       "9 -87.631290   (41.702510868, -87.63129037)  \n",
       "\n",
       "[10 rows x 22 columns]"
      ]
     },
     "execution_count": 12,
     "metadata": {},
     "output_type": "execute_result"
    }
   ],
   "source": [
    "# Scratch space for your code\n",
    "\n",
    "# Preview the first five lines of the \"crime\" table\n",
    "client.list_rows(table, max_results=10).to_dataframe()\n",
    "\n",
    "# Preview the first five entries in the \"location\" column of the \"crime\" table\n",
    "# client.list_rows(table, selected_fields=table.schema[21:], max_results=10).to_dataframe()\n"
   ]
  },
  {
   "cell_type": "markdown",
   "id": "9677e759",
   "metadata": {
    "papermill": {
     "duration": 0.011473,
     "end_time": "2023-05-30T17:58:11.688223",
     "exception": false,
     "start_time": "2023-05-30T17:58:11.676750",
     "status": "completed"
    },
    "tags": []
   },
   "source": [
    "# Keep going\n",
    "\n",
    "You've looked at the schema, but you haven't yet done anything exciting with the data itself. Things get more interesting when you get to the data, so keep going to **[write your first SQL query](https://www.kaggle.com/dansbecker/select-from-where).**"
   ]
  },
  {
   "cell_type": "markdown",
   "id": "ed0ec3e9",
   "metadata": {
    "papermill": {
     "duration": 0.01146,
     "end_time": "2023-05-30T17:58:11.711460",
     "exception": false,
     "start_time": "2023-05-30T17:58:11.700000",
     "status": "completed"
    },
    "tags": []
   },
   "source": [
    "---\n",
    "\n",
    "\n",
    "\n",
    "\n",
    "*Have questions or comments? Visit the [course discussion forum](https://www.kaggle.com/learn/intro-to-sql/discussion) to chat with other learners.*"
   ]
  }
 ],
 "metadata": {
  "kernelspec": {
   "display_name": "Python 3",
   "language": "python",
   "name": "python3"
  },
  "language_info": {
   "codemirror_mode": {
    "name": "ipython",
    "version": 3
   },
   "file_extension": ".py",
   "mimetype": "text/x-python",
   "name": "python",
   "nbconvert_exporter": "python",
   "pygments_lexer": "ipython3",
   "version": "3.10.10"
  },
  "papermill": {
   "default_parameters": {},
   "duration": 18.201013,
   "end_time": "2023-05-30T17:58:12.652794",
   "environment_variables": {},
   "exception": null,
   "input_path": "__notebook__.ipynb",
   "output_path": "__notebook__.ipynb",
   "parameters": {},
   "start_time": "2023-05-30T17:57:54.451781",
   "version": "2.4.0"
  }
 },
 "nbformat": 4,
 "nbformat_minor": 5
}
