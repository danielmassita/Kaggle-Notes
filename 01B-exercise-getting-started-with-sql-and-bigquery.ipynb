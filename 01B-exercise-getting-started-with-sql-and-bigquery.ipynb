{
 "cells": [
  {
   "cell_type": "markdown",
   "id": "a578eab7",
   "metadata": {
    "papermill": {
     "duration": 0.008368,
     "end_time": "2023-06-02T17:19:58.021362",
     "exception": false,
     "start_time": "2023-06-02T17:19:58.012994",
     "status": "completed"
    },
    "tags": []
   },
   "source": [
    "**This notebook is an exercise in the [SQL](https://www.kaggle.com/learn/intro-to-sql) course.  You can reference the tutorial at [this link](https://www.kaggle.com/dansbecker/getting-started-with-sql-and-bigquery).**\n",
    "\n",
    "---\n"
   ]
  },
  {
   "cell_type": "markdown",
   "id": "0cf36137",
   "metadata": {
    "papermill": {
     "duration": 0.007216,
     "end_time": "2023-06-02T17:19:58.036550",
     "exception": false,
     "start_time": "2023-06-02T17:19:58.029334",
     "status": "completed"
    },
    "tags": []
   },
   "source": [
    "# Introduction\n",
    "\n",
    "The first test of your new data exploration skills uses data describing crime in the city of Chicago.\n",
    "\n",
    "Before you get started, run the following cell. It sets up the automated feedback system to review your answers."
   ]
  },
  {
   "cell_type": "code",
   "execution_count": 1,
   "id": "dab0ac8f",
   "metadata": {
    "execution": {
     "iopub.execute_input": "2023-06-02T17:19:58.053737Z",
     "iopub.status.busy": "2023-06-02T17:19:58.053224Z",
     "iopub.status.idle": "2023-06-02T17:19:59.824503Z",
     "shell.execute_reply": "2023-06-02T17:19:59.823242Z"
    },
    "papermill": {
     "duration": 1.783367,
     "end_time": "2023-06-02T17:19:59.827274",
     "exception": false,
     "start_time": "2023-06-02T17:19:58.043907",
     "status": "completed"
    },
    "tags": []
   },
   "outputs": [
    {
     "name": "stdout",
     "output_type": "stream",
     "text": [
      "Using Kaggle's public dataset BigQuery integration.\n",
      "Setup Complete\n"
     ]
    }
   ],
   "source": [
    "# Set up feedack system\n",
    "from learntools.core import binder\n",
    "binder.bind(globals())\n",
    "from learntools.sql.ex1 import *\n",
    "print(\"Setup Complete\")"
   ]
  },
  {
   "cell_type": "markdown",
   "id": "bf206371",
   "metadata": {
    "papermill": {
     "duration": 0.007328,
     "end_time": "2023-06-02T17:19:59.842480",
     "exception": false,
     "start_time": "2023-06-02T17:19:59.835152",
     "status": "completed"
    },
    "tags": []
   },
   "source": [
    "Use the next code cell to fetch the dataset."
   ]
  },
  {
   "cell_type": "code",
   "execution_count": 2,
   "id": "fa58aee3",
   "metadata": {
    "execution": {
     "iopub.execute_input": "2023-06-02T17:19:59.861472Z",
     "iopub.status.busy": "2023-06-02T17:19:59.861057Z",
     "iopub.status.idle": "2023-06-02T17:20:00.347033Z",
     "shell.execute_reply": "2023-06-02T17:20:00.345794Z"
    },
    "papermill": {
     "duration": 0.499983,
     "end_time": "2023-06-02T17:20:00.349999",
     "exception": false,
     "start_time": "2023-06-02T17:19:59.850016",
     "status": "completed"
    },
    "tags": []
   },
   "outputs": [
    {
     "name": "stdout",
     "output_type": "stream",
     "text": [
      "Using Kaggle's public dataset BigQuery integration.\n"
     ]
    }
   ],
   "source": [
    "# from google.cloud import bigquery\n",
    "from google.cloud import bigquery\n",
    "\n",
    "# Create a \"Client\" object\n",
    "# client = bigquery.Client()\n",
    "client = bigquery.Client()\n",
    "\n",
    "# Construct a reference to the \"chicago_crime\" dataset\n",
    "# dataset_ref = client.dataset(\"chicago_crime\", project=\"bigquery-public-data\")\n",
    "dataset_ref = client.dataset(\"chicago_crime\", project=\"bigquery-public-data\")\n",
    "\n",
    "# API request - fetch the dataset\n",
    "# dataset = client.get_dataset(dataset_ref)\n",
    "dataset = client.get_dataset(dataset_ref)"
   ]
  },
  {
   "cell_type": "markdown",
   "id": "bd3b8ccc",
   "metadata": {
    "papermill": {
     "duration": 0.007436,
     "end_time": "2023-06-02T17:20:00.365240",
     "exception": false,
     "start_time": "2023-06-02T17:20:00.357804",
     "status": "completed"
    },
    "tags": []
   },
   "source": [
    "# Exercises\n",
    "\n",
    "### 1) Count tables in the dataset\n",
    "\n",
    "How many tables are in the Chicago Crime dataset?"
   ]
  },
  {
   "cell_type": "code",
   "execution_count": 3,
   "id": "d09a63c2",
   "metadata": {
    "execution": {
     "iopub.execute_input": "2023-06-02T17:20:00.383551Z",
     "iopub.status.busy": "2023-06-02T17:20:00.383096Z",
     "iopub.status.idle": "2023-06-02T17:20:00.790414Z",
     "shell.execute_reply": "2023-06-02T17:20:00.789134Z"
    },
    "papermill": {
     "duration": 0.419913,
     "end_time": "2023-06-02T17:20:00.792907",
     "exception": false,
     "start_time": "2023-06-02T17:20:00.372994",
     "status": "completed"
    },
    "tags": []
   },
   "outputs": [
    {
     "name": "stdout",
     "output_type": "stream",
     "text": [
      "crime\n"
     ]
    }
   ],
   "source": [
    "# Write the code you need here to figure out the answer\n",
    "tables = list(client.list_tables(dataset))\n",
    "for table in tables:\n",
    "    print(table.table_id)"
   ]
  },
  {
   "cell_type": "code",
   "execution_count": 4,
   "id": "03b79ad5",
   "metadata": {
    "execution": {
     "iopub.execute_input": "2023-06-02T17:20:00.810787Z",
     "iopub.status.busy": "2023-06-02T17:20:00.810402Z",
     "iopub.status.idle": "2023-06-02T17:20:00.820816Z",
     "shell.execute_reply": "2023-06-02T17:20:00.819563Z"
    },
    "papermill": {
     "duration": 0.022337,
     "end_time": "2023-06-02T17:20:00.823241",
     "exception": false,
     "start_time": "2023-06-02T17:20:00.800904",
     "status": "completed"
    },
    "tags": []
   },
   "outputs": [
    {
     "data": {
      "application/javascript": [
       "parent.postMessage({\"jupyterEvent\": \"custom.exercise_interaction\", \"data\": {\"outcomeType\": 1, \"valueTowardsCompletion\": 0.3333333333333333, \"interactionType\": 1, \"questionType\": 1, \"questionId\": \"1_CountTables\", \"learnToolsVersion\": \"0.3.4\", \"failureMessage\": \"\", \"exceptionClass\": \"\", \"trace\": \"\"}}, \"*\")"
      ],
      "text/plain": [
       "<IPython.core.display.Javascript object>"
      ]
     },
     "metadata": {},
     "output_type": "display_data"
    },
    {
     "data": {
      "text/markdown": [
       "<span style=\"color:#33cc33\">Correct</span>"
      ],
      "text/plain": [
       "Correct"
      ]
     },
     "metadata": {},
     "output_type": "display_data"
    }
   ],
   "source": [
    "num_tables = 1  # Store the answer as num_tables and then run this cell\n",
    "\n",
    "# Check your answer\n",
    "q_1.check()"
   ]
  },
  {
   "cell_type": "markdown",
   "id": "1d10c6c3",
   "metadata": {
    "papermill": {
     "duration": 0.00788,
     "end_time": "2023-06-02T17:20:00.839210",
     "exception": false,
     "start_time": "2023-06-02T17:20:00.831330",
     "status": "completed"
    },
    "tags": []
   },
   "source": [
    "For a hint or the solution, uncomment the appropriate line below."
   ]
  },
  {
   "cell_type": "code",
   "execution_count": 5,
   "id": "6e6ac034",
   "metadata": {
    "execution": {
     "iopub.execute_input": "2023-06-02T17:20:00.857877Z",
     "iopub.status.busy": "2023-06-02T17:20:00.857481Z",
     "iopub.status.idle": "2023-06-02T17:20:00.870890Z",
     "shell.execute_reply": "2023-06-02T17:20:00.869710Z"
    },
    "papermill": {
     "duration": 0.025464,
     "end_time": "2023-06-02T17:20:00.873398",
     "exception": false,
     "start_time": "2023-06-02T17:20:00.847934",
     "status": "completed"
    },
    "tags": []
   },
   "outputs": [
    {
     "data": {
      "application/javascript": [
       "parent.postMessage({\"jupyterEvent\": \"custom.exercise_interaction\", \"data\": {\"interactionType\": 2, \"questionType\": 1, \"questionId\": \"1_CountTables\", \"learnToolsVersion\": \"0.3.4\", \"valueTowardsCompletion\": 0.0, \"failureMessage\": \"\", \"exceptionClass\": \"\", \"trace\": \"\", \"outcomeType\": 4}}, \"*\")"
      ],
      "text/plain": [
       "<IPython.core.display.Javascript object>"
      ]
     },
     "metadata": {},
     "output_type": "display_data"
    },
    {
     "data": {
      "text/markdown": [
       "<span style=\"color:#3366cc\">Hint:</span> Use the `list_tables()` method to get a list of the tables in the dataset."
      ],
      "text/plain": [
       "Hint: Use the `list_tables()` method to get a list of the tables in the dataset."
      ]
     },
     "metadata": {},
     "output_type": "display_data"
    },
    {
     "data": {
      "application/javascript": [
       "parent.postMessage({\"jupyterEvent\": \"custom.exercise_interaction\", \"data\": {\"interactionType\": 3, \"questionType\": 1, \"questionId\": \"1_CountTables\", \"learnToolsVersion\": \"0.3.4\", \"valueTowardsCompletion\": 0.0, \"failureMessage\": \"\", \"exceptionClass\": \"\", \"trace\": \"\", \"outcomeType\": 4}}, \"*\")"
      ],
      "text/plain": [
       "<IPython.core.display.Javascript object>"
      ]
     },
     "metadata": {},
     "output_type": "display_data"
    },
    {
     "data": {
      "text/markdown": [
       "<span style=\"color:#33cc99\">Solution:</span> \n",
       "```python\n",
       "\n",
       "# List all the tables in the \"chicago_crime\" dataset\n",
       "tables = list(client.list_tables(dataset))\n",
       "\n",
       "# Print number of tables in the dataset\n",
       "print(len(tables))\n",
       "\n",
       "num_tables = 1\n",
       "\n",
       "```"
      ],
      "text/plain": [
       "Solution: \n",
       "```python\n",
       "\n",
       "# List all the tables in the \"chicago_crime\" dataset\n",
       "tables = list(client.list_tables(dataset))\n",
       "\n",
       "# Print number of tables in the dataset\n",
       "print(len(tables))\n",
       "\n",
       "num_tables = 1\n",
       "\n",
       "```"
      ]
     },
     "metadata": {},
     "output_type": "display_data"
    }
   ],
   "source": [
    "q_1.hint()\n",
    "q_1.solution()"
   ]
  },
  {
   "cell_type": "markdown",
   "id": "b99ed767",
   "metadata": {
    "papermill": {
     "duration": 0.008526,
     "end_time": "2023-06-02T17:20:00.890724",
     "exception": false,
     "start_time": "2023-06-02T17:20:00.882198",
     "status": "completed"
    },
    "tags": []
   },
   "source": [
    "### 2) Explore the table schema\n",
    "\n",
    "How many columns in the `crime` table have `TIMESTAMP` data?"
   ]
  },
  {
   "cell_type": "code",
   "execution_count": 6,
   "id": "b3e362ad",
   "metadata": {
    "execution": {
     "iopub.execute_input": "2023-06-02T17:20:00.909741Z",
     "iopub.status.busy": "2023-06-02T17:20:00.909362Z",
     "iopub.status.idle": "2023-06-02T17:20:01.288310Z",
     "shell.execute_reply": "2023-06-02T17:20:01.286377Z"
    },
    "papermill": {
     "duration": 0.391588,
     "end_time": "2023-06-02T17:20:01.290975",
     "exception": false,
     "start_time": "2023-06-02T17:20:00.899387",
     "status": "completed"
    },
    "tags": []
   },
   "outputs": [
    {
     "name": "stdout",
     "output_type": "stream",
     "text": [
      "[SchemaField('unique_key', 'INTEGER', 'REQUIRED', None, (), None), SchemaField('case_number', 'STRING', 'NULLABLE', None, (), None), SchemaField('date', 'TIMESTAMP', 'NULLABLE', None, (), None), SchemaField('block', 'STRING', 'NULLABLE', None, (), None), SchemaField('iucr', 'STRING', 'NULLABLE', None, (), None), SchemaField('primary_type', 'STRING', 'NULLABLE', None, (), None), SchemaField('description', 'STRING', 'NULLABLE', None, (), None), SchemaField('location_description', 'STRING', 'NULLABLE', None, (), None), SchemaField('arrest', 'BOOLEAN', 'NULLABLE', None, (), None), SchemaField('domestic', 'BOOLEAN', 'NULLABLE', None, (), None), SchemaField('beat', 'INTEGER', 'NULLABLE', None, (), None), SchemaField('district', 'INTEGER', 'NULLABLE', None, (), None), SchemaField('ward', 'INTEGER', 'NULLABLE', None, (), None), SchemaField('community_area', 'INTEGER', 'NULLABLE', None, (), None), SchemaField('fbi_code', 'STRING', 'NULLABLE', None, (), None), SchemaField('x_coordinate', 'FLOAT', 'NULLABLE', None, (), None), SchemaField('y_coordinate', 'FLOAT', 'NULLABLE', None, (), None), SchemaField('year', 'INTEGER', 'NULLABLE', None, (), None), SchemaField('updated_on', 'TIMESTAMP', 'NULLABLE', None, (), None), SchemaField('latitude', 'FLOAT', 'NULLABLE', None, (), None), SchemaField('longitude', 'FLOAT', 'NULLABLE', None, (), None), SchemaField('location', 'STRING', 'NULLABLE', None, (), None)]\n",
      "-----\n"
     ]
    },
    {
     "data": {
      "text/plain": [
       "[SchemaField('unique_key', 'INTEGER', 'REQUIRED', None, (), None),\n",
       " SchemaField('case_number', 'STRING', 'NULLABLE', None, (), None),\n",
       " SchemaField('date', 'TIMESTAMP', 'NULLABLE', None, (), None),\n",
       " SchemaField('block', 'STRING', 'NULLABLE', None, (), None),\n",
       " SchemaField('iucr', 'STRING', 'NULLABLE', None, (), None),\n",
       " SchemaField('primary_type', 'STRING', 'NULLABLE', None, (), None),\n",
       " SchemaField('description', 'STRING', 'NULLABLE', None, (), None),\n",
       " SchemaField('location_description', 'STRING', 'NULLABLE', None, (), None),\n",
       " SchemaField('arrest', 'BOOLEAN', 'NULLABLE', None, (), None),\n",
       " SchemaField('domestic', 'BOOLEAN', 'NULLABLE', None, (), None),\n",
       " SchemaField('beat', 'INTEGER', 'NULLABLE', None, (), None),\n",
       " SchemaField('district', 'INTEGER', 'NULLABLE', None, (), None),\n",
       " SchemaField('ward', 'INTEGER', 'NULLABLE', None, (), None),\n",
       " SchemaField('community_area', 'INTEGER', 'NULLABLE', None, (), None),\n",
       " SchemaField('fbi_code', 'STRING', 'NULLABLE', None, (), None),\n",
       " SchemaField('x_coordinate', 'FLOAT', 'NULLABLE', None, (), None),\n",
       " SchemaField('y_coordinate', 'FLOAT', 'NULLABLE', None, (), None),\n",
       " SchemaField('year', 'INTEGER', 'NULLABLE', None, (), None),\n",
       " SchemaField('updated_on', 'TIMESTAMP', 'NULLABLE', None, (), None),\n",
       " SchemaField('latitude', 'FLOAT', 'NULLABLE', None, (), None),\n",
       " SchemaField('longitude', 'FLOAT', 'NULLABLE', None, (), None),\n",
       " SchemaField('location', 'STRING', 'NULLABLE', None, (), None)]"
      ]
     },
     "execution_count": 6,
     "metadata": {},
     "output_type": "execute_result"
    }
   ],
   "source": [
    "# Write the code to figure out the answer\n",
    "# Construct a reference to the \"crime\" table\n",
    "table_ref = dataset_ref.table(\"crime\")\n",
    "\n",
    "# API request - fetch the table\n",
    "table = client.get_table(table_ref)\n",
    "\n",
    "# Print information on all the columns in the \"crime\" table in the \"chicago_crime\" dataset\n",
    "print(table.schema)\n",
    "print('-----')\n",
    "table.schema"
   ]
  },
  {
   "cell_type": "code",
   "execution_count": 7,
   "id": "e75f3fb7",
   "metadata": {
    "execution": {
     "iopub.execute_input": "2023-06-02T17:20:01.310985Z",
     "iopub.status.busy": "2023-06-02T17:20:01.310539Z",
     "iopub.status.idle": "2023-06-02T17:20:01.321081Z",
     "shell.execute_reply": "2023-06-02T17:20:01.319636Z"
    },
    "papermill": {
     "duration": 0.023489,
     "end_time": "2023-06-02T17:20:01.323490",
     "exception": false,
     "start_time": "2023-06-02T17:20:01.300001",
     "status": "completed"
    },
    "tags": []
   },
   "outputs": [
    {
     "data": {
      "application/javascript": [
       "parent.postMessage({\"jupyterEvent\": \"custom.exercise_interaction\", \"data\": {\"outcomeType\": 1, \"valueTowardsCompletion\": 0.3333333333333333, \"interactionType\": 1, \"questionType\": 1, \"questionId\": \"2_CountTimestampFields\", \"learnToolsVersion\": \"0.3.4\", \"failureMessage\": \"\", \"exceptionClass\": \"\", \"trace\": \"\"}}, \"*\")"
      ],
      "text/plain": [
       "<IPython.core.display.Javascript object>"
      ]
     },
     "metadata": {},
     "output_type": "display_data"
    },
    {
     "data": {
      "text/markdown": [
       "<span style=\"color:#33cc33\">Correct</span>"
      ],
      "text/plain": [
       "Correct"
      ]
     },
     "metadata": {},
     "output_type": "display_data"
    }
   ],
   "source": [
    "num_timestamp_fields = 2 # Put your answer here\n",
    "\n",
    "# Check your answer\n",
    "q_2.check()"
   ]
  },
  {
   "cell_type": "markdown",
   "id": "2c3efdfb",
   "metadata": {
    "papermill": {
     "duration": 0.008948,
     "end_time": "2023-06-02T17:20:01.341834",
     "exception": false,
     "start_time": "2023-06-02T17:20:01.332886",
     "status": "completed"
    },
    "tags": []
   },
   "source": [
    "For a hint or the solution, uncomment the appropriate line below."
   ]
  },
  {
   "cell_type": "code",
   "execution_count": 8,
   "id": "4dda6bb1",
   "metadata": {
    "execution": {
     "iopub.execute_input": "2023-06-02T17:20:01.362918Z",
     "iopub.status.busy": "2023-06-02T17:20:01.362036Z",
     "iopub.status.idle": "2023-06-02T17:20:01.376400Z",
     "shell.execute_reply": "2023-06-02T17:20:01.375233Z"
    },
    "papermill": {
     "duration": 0.027442,
     "end_time": "2023-06-02T17:20:01.378736",
     "exception": false,
     "start_time": "2023-06-02T17:20:01.351294",
     "status": "completed"
    },
    "tags": []
   },
   "outputs": [
    {
     "data": {
      "application/javascript": [
       "parent.postMessage({\"jupyterEvent\": \"custom.exercise_interaction\", \"data\": {\"interactionType\": 2, \"questionType\": 1, \"questionId\": \"2_CountTimestampFields\", \"learnToolsVersion\": \"0.3.4\", \"valueTowardsCompletion\": 0.0, \"failureMessage\": \"\", \"exceptionClass\": \"\", \"trace\": \"\", \"outcomeType\": 4}}, \"*\")"
      ],
      "text/plain": [
       "<IPython.core.display.Javascript object>"
      ]
     },
     "metadata": {},
     "output_type": "display_data"
    },
    {
     "data": {
      "text/markdown": [
       "<span style=\"color:#3366cc\">Hint:</span> Begin by fetching the `crime` table. Then take a look at the table schema, and check the field type of each column.  How many times does `'TIMESTAMP'` appear?"
      ],
      "text/plain": [
       "Hint: Begin by fetching the `crime` table. Then take a look at the table schema, and check the field type of each column.  How many times does `'TIMESTAMP'` appear?"
      ]
     },
     "metadata": {},
     "output_type": "display_data"
    },
    {
     "data": {
      "application/javascript": [
       "parent.postMessage({\"jupyterEvent\": \"custom.exercise_interaction\", \"data\": {\"interactionType\": 3, \"questionType\": 1, \"questionId\": \"2_CountTimestampFields\", \"learnToolsVersion\": \"0.3.4\", \"valueTowardsCompletion\": 0.0, \"failureMessage\": \"\", \"exceptionClass\": \"\", \"trace\": \"\", \"outcomeType\": 4}}, \"*\")"
      ],
      "text/plain": [
       "<IPython.core.display.Javascript object>"
      ]
     },
     "metadata": {},
     "output_type": "display_data"
    },
    {
     "data": {
      "text/markdown": [
       "<span style=\"color:#33cc99\">Solution:</span> \n",
       "```python\n",
       "\n",
       "# Construct a reference to the \"crime\" table\n",
       "table_ref = dataset_ref.table(\"crime\")\n",
       "\n",
       "# API request - fetch the table\n",
       "table = client.get_table(table_ref)\n",
       "\n",
       "# Print information on all the columns in the \"crime\" table in the \"chicago_crime\" dataset\n",
       "print(table.schema)\n",
       "\n",
       "num_timestamp_fields = 2\n",
       "\n",
       "```"
      ],
      "text/plain": [
       "Solution: \n",
       "```python\n",
       "\n",
       "# Construct a reference to the \"crime\" table\n",
       "table_ref = dataset_ref.table(\"crime\")\n",
       "\n",
       "# API request - fetch the table\n",
       "table = client.get_table(table_ref)\n",
       "\n",
       "# Print information on all the columns in the \"crime\" table in the \"chicago_crime\" dataset\n",
       "print(table.schema)\n",
       "\n",
       "num_timestamp_fields = 2\n",
       "\n",
       "```"
      ]
     },
     "metadata": {},
     "output_type": "display_data"
    }
   ],
   "source": [
    "q_2.hint()\n",
    "q_2.solution()"
   ]
  },
  {
   "cell_type": "markdown",
   "id": "6addaf50",
   "metadata": {
    "papermill": {
     "duration": 0.009669,
     "end_time": "2023-06-02T17:20:01.398408",
     "exception": false,
     "start_time": "2023-06-02T17:20:01.388739",
     "status": "completed"
    },
    "tags": []
   },
   "source": [
    "### 3) Create a crime map\n",
    "\n",
    "If you wanted to create a map with a dot at the location of each crime, what are the names of the two fields you likely need to pull out of the `crime` table to plot the crimes on a map?"
   ]
  },
  {
   "cell_type": "code",
   "execution_count": 9,
   "id": "1d054af9",
   "metadata": {
    "execution": {
     "iopub.execute_input": "2023-06-02T17:20:01.420280Z",
     "iopub.status.busy": "2023-06-02T17:20:01.419821Z",
     "iopub.status.idle": "2023-06-02T17:20:01.428295Z",
     "shell.execute_reply": "2023-06-02T17:20:01.426956Z"
    },
    "papermill": {
     "duration": 0.022646,
     "end_time": "2023-06-02T17:20:01.430981",
     "exception": false,
     "start_time": "2023-06-02T17:20:01.408335",
     "status": "completed"
    },
    "tags": []
   },
   "outputs": [
    {
     "data": {
      "text/plain": [
       "[SchemaField('unique_key', 'INTEGER', 'REQUIRED', None, (), None),\n",
       " SchemaField('case_number', 'STRING', 'NULLABLE', None, (), None),\n",
       " SchemaField('date', 'TIMESTAMP', 'NULLABLE', None, (), None),\n",
       " SchemaField('block', 'STRING', 'NULLABLE', None, (), None),\n",
       " SchemaField('iucr', 'STRING', 'NULLABLE', None, (), None),\n",
       " SchemaField('primary_type', 'STRING', 'NULLABLE', None, (), None),\n",
       " SchemaField('description', 'STRING', 'NULLABLE', None, (), None),\n",
       " SchemaField('location_description', 'STRING', 'NULLABLE', None, (), None),\n",
       " SchemaField('arrest', 'BOOLEAN', 'NULLABLE', None, (), None),\n",
       " SchemaField('domestic', 'BOOLEAN', 'NULLABLE', None, (), None),\n",
       " SchemaField('beat', 'INTEGER', 'NULLABLE', None, (), None),\n",
       " SchemaField('district', 'INTEGER', 'NULLABLE', None, (), None),\n",
       " SchemaField('ward', 'INTEGER', 'NULLABLE', None, (), None),\n",
       " SchemaField('community_area', 'INTEGER', 'NULLABLE', None, (), None),\n",
       " SchemaField('fbi_code', 'STRING', 'NULLABLE', None, (), None),\n",
       " SchemaField('x_coordinate', 'FLOAT', 'NULLABLE', None, (), None),\n",
       " SchemaField('y_coordinate', 'FLOAT', 'NULLABLE', None, (), None),\n",
       " SchemaField('year', 'INTEGER', 'NULLABLE', None, (), None),\n",
       " SchemaField('updated_on', 'TIMESTAMP', 'NULLABLE', None, (), None),\n",
       " SchemaField('latitude', 'FLOAT', 'NULLABLE', None, (), None),\n",
       " SchemaField('longitude', 'FLOAT', 'NULLABLE', None, (), None),\n",
       " SchemaField('location', 'STRING', 'NULLABLE', None, (), None)]"
      ]
     },
     "execution_count": 9,
     "metadata": {},
     "output_type": "execute_result"
    }
   ],
   "source": [
    "# Write the code here to explore the data so you can find the answer\n",
    "table.schema"
   ]
  },
  {
   "cell_type": "code",
   "execution_count": 10,
   "id": "33be2e49",
   "metadata": {
    "execution": {
     "iopub.execute_input": "2023-06-02T17:20:01.453451Z",
     "iopub.status.busy": "2023-06-02T17:20:01.452814Z",
     "iopub.status.idle": "2023-06-02T17:20:01.460816Z",
     "shell.execute_reply": "2023-06-02T17:20:01.459870Z"
    },
    "papermill": {
     "duration": 0.021546,
     "end_time": "2023-06-02T17:20:01.462867",
     "exception": false,
     "start_time": "2023-06-02T17:20:01.441321",
     "status": "completed"
    },
    "tags": []
   },
   "outputs": [
    {
     "data": {
      "application/javascript": [
       "parent.postMessage({\"jupyterEvent\": \"custom.exercise_interaction\", \"data\": {\"outcomeType\": 1, \"valueTowardsCompletion\": 0.3333333333333333, \"interactionType\": 1, \"questionType\": 2, \"questionId\": \"3_IdentifyFieldsForPlotting\", \"learnToolsVersion\": \"0.3.4\", \"failureMessage\": \"\", \"exceptionClass\": \"\", \"trace\": \"\"}}, \"*\")"
      ],
      "text/plain": [
       "<IPython.core.display.Javascript object>"
      ]
     },
     "metadata": {},
     "output_type": "display_data"
    },
    {
     "data": {
      "text/markdown": [
       "<span style=\"color:#33cc33\">Correct</span>"
      ],
      "text/plain": [
       "Correct"
      ]
     },
     "metadata": {},
     "output_type": "display_data"
    }
   ],
   "source": [
    "fields_for_plotting = ['latitude', 'longitude'] # Put your answers here\n",
    "\n",
    "# Check your answer\n",
    "q_3.check()"
   ]
  },
  {
   "cell_type": "markdown",
   "id": "5f656b95",
   "metadata": {
    "papermill": {
     "duration": 0.010171,
     "end_time": "2023-06-02T17:20:01.483600",
     "exception": false,
     "start_time": "2023-06-02T17:20:01.473429",
     "status": "completed"
    },
    "tags": []
   },
   "source": [
    "For a hint or the solution, uncomment the appropriate line below."
   ]
  },
  {
   "cell_type": "code",
   "execution_count": 11,
   "id": "46abcd04",
   "metadata": {
    "execution": {
     "iopub.execute_input": "2023-06-02T17:20:01.507529Z",
     "iopub.status.busy": "2023-06-02T17:20:01.507086Z",
     "iopub.status.idle": "2023-06-02T17:20:01.517691Z",
     "shell.execute_reply": "2023-06-02T17:20:01.516885Z"
    },
    "papermill": {
     "duration": 0.025,
     "end_time": "2023-06-02T17:20:01.519777",
     "exception": false,
     "start_time": "2023-06-02T17:20:01.494777",
     "status": "completed"
    },
    "tags": []
   },
   "outputs": [
    {
     "data": {
      "application/javascript": [
       "parent.postMessage({\"jupyterEvent\": \"custom.exercise_interaction\", \"data\": {\"interactionType\": 2, \"questionType\": 2, \"questionId\": \"3_IdentifyFieldsForPlotting\", \"learnToolsVersion\": \"0.3.4\", \"valueTowardsCompletion\": 0.0, \"failureMessage\": \"\", \"exceptionClass\": \"\", \"trace\": \"\", \"outcomeType\": 4}}, \"*\")"
      ],
      "text/plain": [
       "<IPython.core.display.Javascript object>"
      ]
     },
     "metadata": {},
     "output_type": "display_data"
    },
    {
     "data": {
      "text/markdown": [
       "<span style=\"color:#3366cc\">Hint:</span> Look at the table schema.  There are a couple options, but two of the fields are things commonly used to plot on maps. Both are `'FLOAT'` types. Use quotes around the field names in your answer."
      ],
      "text/plain": [
       "Hint: Look at the table schema.  There are a couple options, but two of the fields are things commonly used to plot on maps. Both are `'FLOAT'` types. Use quotes around the field names in your answer."
      ]
     },
     "metadata": {},
     "output_type": "display_data"
    },
    {
     "data": {
      "application/javascript": [
       "parent.postMessage({\"jupyterEvent\": \"custom.exercise_interaction\", \"data\": {\"interactionType\": 3, \"questionType\": 2, \"questionId\": \"3_IdentifyFieldsForPlotting\", \"learnToolsVersion\": \"0.3.4\", \"valueTowardsCompletion\": 0.0, \"failureMessage\": \"\", \"exceptionClass\": \"\", \"trace\": \"\", \"outcomeType\": 4}}, \"*\")"
      ],
      "text/plain": [
       "<IPython.core.display.Javascript object>"
      ]
     },
     "metadata": {},
     "output_type": "display_data"
    },
    {
     "data": {
      "text/markdown": [
       "<span style=\"color:#33cc99\">Solution:</span> \n",
       "```python\n",
       "fields_for_plotting = ['latitude', 'longitude']\n",
       "```"
      ],
      "text/plain": [
       "Solution: \n",
       "```python\n",
       "fields_for_plotting = ['latitude', 'longitude']\n",
       "```"
      ]
     },
     "metadata": {},
     "output_type": "display_data"
    }
   ],
   "source": [
    "q_3.hint()\n",
    "q_3.solution()"
   ]
  },
  {
   "cell_type": "markdown",
   "id": "08620aa9",
   "metadata": {
    "papermill": {
     "duration": 0.010753,
     "end_time": "2023-06-02T17:20:01.541691",
     "exception": false,
     "start_time": "2023-06-02T17:20:01.530938",
     "status": "completed"
    },
    "tags": []
   },
   "source": [
    "Thinking about the question above, there are a few columns that appear to have geographic data. Look at a few values (with the `list_rows()` command) to see if you can determine their relationship.  Two columns will still be hard to interpret. But it should be obvious how the `location` column relates to `latitude` and `longitude`."
   ]
  },
  {
   "cell_type": "code",
   "execution_count": 12,
   "id": "2307526d",
   "metadata": {
    "execution": {
     "iopub.execute_input": "2023-06-02T17:20:01.566247Z",
     "iopub.status.busy": "2023-06-02T17:20:01.565612Z",
     "iopub.status.idle": "2023-06-02T17:20:02.261881Z",
     "shell.execute_reply": "2023-06-02T17:20:02.261033Z"
    },
    "papermill": {
     "duration": 0.711408,
     "end_time": "2023-06-02T17:20:02.264175",
     "exception": false,
     "start_time": "2023-06-02T17:20:01.552767",
     "status": "completed"
    },
    "tags": []
   },
   "outputs": [
    {
     "data": {
      "text/html": [
       "<div>\n",
       "<style scoped>\n",
       "    .dataframe tbody tr th:only-of-type {\n",
       "        vertical-align: middle;\n",
       "    }\n",
       "\n",
       "    .dataframe tbody tr th {\n",
       "        vertical-align: top;\n",
       "    }\n",
       "\n",
       "    .dataframe thead th {\n",
       "        text-align: right;\n",
       "    }\n",
       "</style>\n",
       "<table border=\"1\" class=\"dataframe\">\n",
       "  <thead>\n",
       "    <tr style=\"text-align: right;\">\n",
       "      <th></th>\n",
       "      <th>unique_key</th>\n",
       "      <th>case_number</th>\n",
       "      <th>date</th>\n",
       "      <th>block</th>\n",
       "      <th>iucr</th>\n",
       "      <th>primary_type</th>\n",
       "      <th>description</th>\n",
       "      <th>location_description</th>\n",
       "      <th>arrest</th>\n",
       "      <th>domestic</th>\n",
       "      <th>...</th>\n",
       "      <th>ward</th>\n",
       "      <th>community_area</th>\n",
       "      <th>fbi_code</th>\n",
       "      <th>x_coordinate</th>\n",
       "      <th>y_coordinate</th>\n",
       "      <th>year</th>\n",
       "      <th>updated_on</th>\n",
       "      <th>latitude</th>\n",
       "      <th>longitude</th>\n",
       "      <th>location</th>\n",
       "    </tr>\n",
       "  </thead>\n",
       "  <tbody>\n",
       "    <tr>\n",
       "      <th>0</th>\n",
       "      <td>3045</td>\n",
       "      <td>HL177967</td>\n",
       "      <td>2005-02-12 08:47:00+00:00</td>\n",
       "      <td>007XX E 103RD ST</td>\n",
       "      <td>0110</td>\n",
       "      <td>HOMICIDE</td>\n",
       "      <td>FIRST DEGREE MURDER</td>\n",
       "      <td>RETAIL STORE</td>\n",
       "      <td>True</td>\n",
       "      <td>False</td>\n",
       "      <td>...</td>\n",
       "      <td>9</td>\n",
       "      <td>50</td>\n",
       "      <td>01A</td>\n",
       "      <td>1182951.0</td>\n",
       "      <td>1836828.0</td>\n",
       "      <td>2005</td>\n",
       "      <td>2022-09-18 04:45:51+00:00</td>\n",
       "      <td>41.707456</td>\n",
       "      <td>-87.605637</td>\n",
       "      <td>(41.707455731, -87.605637491)</td>\n",
       "    </tr>\n",
       "    <tr>\n",
       "      <th>1</th>\n",
       "      <td>10292715</td>\n",
       "      <td>HY480432</td>\n",
       "      <td>2015-10-28 09:40:00+00:00</td>\n",
       "      <td>103XX S STATE ST</td>\n",
       "      <td>0281</td>\n",
       "      <td>CRIMINAL SEXUAL ASSAULT</td>\n",
       "      <td>NON-AGGRAVATED</td>\n",
       "      <td>RESIDENCE</td>\n",
       "      <td>False</td>\n",
       "      <td>False</td>\n",
       "      <td>...</td>\n",
       "      <td>34</td>\n",
       "      <td>49</td>\n",
       "      <td>02</td>\n",
       "      <td>1178071.0</td>\n",
       "      <td>1836598.0</td>\n",
       "      <td>2015</td>\n",
       "      <td>2020-05-01 03:48:05+00:00</td>\n",
       "      <td>41.706936</td>\n",
       "      <td>-87.623515</td>\n",
       "      <td>(41.706936355, -87.623514952)</td>\n",
       "    </tr>\n",
       "    <tr>\n",
       "      <th>2</th>\n",
       "      <td>8315960</td>\n",
       "      <td>HT549886</td>\n",
       "      <td>2011-10-18 04:00:00+00:00</td>\n",
       "      <td>103XX S COTTAGE GROVE AVE</td>\n",
       "      <td>0281</td>\n",
       "      <td>CRIM SEXUAL ASSAULT</td>\n",
       "      <td>NON-AGGRAVATED</td>\n",
       "      <td>RESIDENCE</td>\n",
       "      <td>False</td>\n",
       "      <td>False</td>\n",
       "      <td>...</td>\n",
       "      <td>9</td>\n",
       "      <td>50</td>\n",
       "      <td>02</td>\n",
       "      <td>1182698.0</td>\n",
       "      <td>1836734.0</td>\n",
       "      <td>2011</td>\n",
       "      <td>2016-02-04 06:33:39+00:00</td>\n",
       "      <td>41.707204</td>\n",
       "      <td>-87.606567</td>\n",
       "      <td>(41.707203646, -87.606566877)</td>\n",
       "    </tr>\n",
       "    <tr>\n",
       "      <th>3</th>\n",
       "      <td>3942623</td>\n",
       "      <td>HL314417</td>\n",
       "      <td>2005-04-24 01:15:00+00:00</td>\n",
       "      <td>002XX W 107TH ST</td>\n",
       "      <td>0281</td>\n",
       "      <td>CRIM SEXUAL ASSAULT</td>\n",
       "      <td>NON-AGGRAVATED</td>\n",
       "      <td>RESIDENCE</td>\n",
       "      <td>False</td>\n",
       "      <td>False</td>\n",
       "      <td>...</td>\n",
       "      <td>34</td>\n",
       "      <td>49</td>\n",
       "      <td>02</td>\n",
       "      <td>1176385.0</td>\n",
       "      <td>1833981.0</td>\n",
       "      <td>2005</td>\n",
       "      <td>2018-02-28 03:56:25+00:00</td>\n",
       "      <td>41.699793</td>\n",
       "      <td>-87.629767</td>\n",
       "      <td>(41.699792903, -87.629767326)</td>\n",
       "    </tr>\n",
       "    <tr>\n",
       "      <th>4</th>\n",
       "      <td>11363170</td>\n",
       "      <td>JB327133</td>\n",
       "      <td>2018-06-29 12:44:13+00:00</td>\n",
       "      <td>002XX W 104TH ST</td>\n",
       "      <td>0281</td>\n",
       "      <td>CRIM SEXUAL ASSAULT</td>\n",
       "      <td>NON-AGGRAVATED</td>\n",
       "      <td>RESIDENCE</td>\n",
       "      <td>False</td>\n",
       "      <td>False</td>\n",
       "      <td>...</td>\n",
       "      <td>34</td>\n",
       "      <td>49</td>\n",
       "      <td>02</td>\n",
       "      <td>1176571.0</td>\n",
       "      <td>1835979.0</td>\n",
       "      <td>2018</td>\n",
       "      <td>2018-07-06 03:55:18+00:00</td>\n",
       "      <td>41.705272</td>\n",
       "      <td>-87.629026</td>\n",
       "      <td>(41.705271529, -87.629026445)</td>\n",
       "    </tr>\n",
       "  </tbody>\n",
       "</table>\n",
       "<p>5 rows × 22 columns</p>\n",
       "</div>"
      ],
      "text/plain": [
       "   unique_key case_number                      date  \\\n",
       "0        3045    HL177967 2005-02-12 08:47:00+00:00   \n",
       "1    10292715    HY480432 2015-10-28 09:40:00+00:00   \n",
       "2     8315960    HT549886 2011-10-18 04:00:00+00:00   \n",
       "3     3942623    HL314417 2005-04-24 01:15:00+00:00   \n",
       "4    11363170    JB327133 2018-06-29 12:44:13+00:00   \n",
       "\n",
       "                       block  iucr             primary_type  \\\n",
       "0           007XX E 103RD ST  0110                 HOMICIDE   \n",
       "1           103XX S STATE ST  0281  CRIMINAL SEXUAL ASSAULT   \n",
       "2  103XX S COTTAGE GROVE AVE  0281      CRIM SEXUAL ASSAULT   \n",
       "3           002XX W 107TH ST  0281      CRIM SEXUAL ASSAULT   \n",
       "4           002XX W 104TH ST  0281      CRIM SEXUAL ASSAULT   \n",
       "\n",
       "           description location_description  arrest  domestic  ...  ward  \\\n",
       "0  FIRST DEGREE MURDER         RETAIL STORE    True     False  ...     9   \n",
       "1       NON-AGGRAVATED            RESIDENCE   False     False  ...    34   \n",
       "2       NON-AGGRAVATED            RESIDENCE   False     False  ...     9   \n",
       "3       NON-AGGRAVATED            RESIDENCE   False     False  ...    34   \n",
       "4       NON-AGGRAVATED            RESIDENCE   False     False  ...    34   \n",
       "\n",
       "   community_area  fbi_code  x_coordinate y_coordinate  year  \\\n",
       "0              50       01A     1182951.0    1836828.0  2005   \n",
       "1              49        02     1178071.0    1836598.0  2015   \n",
       "2              50        02     1182698.0    1836734.0  2011   \n",
       "3              49        02     1176385.0    1833981.0  2005   \n",
       "4              49        02     1176571.0    1835979.0  2018   \n",
       "\n",
       "                 updated_on   latitude  longitude  \\\n",
       "0 2022-09-18 04:45:51+00:00  41.707456 -87.605637   \n",
       "1 2020-05-01 03:48:05+00:00  41.706936 -87.623515   \n",
       "2 2016-02-04 06:33:39+00:00  41.707204 -87.606567   \n",
       "3 2018-02-28 03:56:25+00:00  41.699793 -87.629767   \n",
       "4 2018-07-06 03:55:18+00:00  41.705272 -87.629026   \n",
       "\n",
       "                        location  \n",
       "0  (41.707455731, -87.605637491)  \n",
       "1  (41.706936355, -87.623514952)  \n",
       "2  (41.707203646, -87.606566877)  \n",
       "3  (41.699792903, -87.629767326)  \n",
       "4  (41.705271529, -87.629026445)  \n",
       "\n",
       "[5 rows x 22 columns]"
      ]
     },
     "execution_count": 12,
     "metadata": {},
     "output_type": "execute_result"
    }
   ],
   "source": [
    "# Scratch space for your code\n",
    "\n",
    "# Preview the first five lines of the \"crime\" table - line above is going to be overwritten by last line of code =table.schema[21:]\n",
    "client.list_rows(table, max_results=5).to_dataframe()\n",
    "\n",
    "# Preview the first five lines of the \"crime\" table - using print() in spite of client.list_rows().to_dataframe()\n",
    "# print(client.list_rows(table, max_results=5).to_dataframe())\n",
    "\n",
    "# Preview the first five entries in the \"location\" column of the \"crime\" table\n",
    "# client.list_rows(table, selected_fields=table.schema[21:], max_results=5).to_dataframe()"
   ]
  },
  {
   "cell_type": "code",
   "execution_count": 13,
   "id": "c41c9be7",
   "metadata": {
    "execution": {
     "iopub.execute_input": "2023-06-02T17:20:02.289891Z",
     "iopub.status.busy": "2023-06-02T17:20:02.289291Z",
     "iopub.status.idle": "2023-06-02T17:20:03.779808Z",
     "shell.execute_reply": "2023-06-02T17:20:03.778443Z"
    },
    "papermill": {
     "duration": 1.506722,
     "end_time": "2023-06-02T17:20:03.782572",
     "exception": false,
     "start_time": "2023-06-02T17:20:02.275850",
     "status": "completed"
    },
    "tags": []
   },
   "outputs": [
    {
     "name": "stdout",
     "output_type": "stream",
     "text": [
      "-----\n",
      "   unique_key case_number                      date  \\\n",
      "0        3045    HL177967 2005-02-12 08:47:00+00:00   \n",
      "1    10292715    HY480432 2015-10-28 09:40:00+00:00   \n",
      "2     8315960    HT549886 2011-10-18 04:00:00+00:00   \n",
      "3     3942623    HL314417 2005-04-24 01:15:00+00:00   \n",
      "4    11363170    JB327133 2018-06-29 12:44:13+00:00   \n",
      "\n",
      "                       block  iucr             primary_type  \\\n",
      "0           007XX E 103RD ST  0110                 HOMICIDE   \n",
      "1           103XX S STATE ST  0281  CRIMINAL SEXUAL ASSAULT   \n",
      "2  103XX S COTTAGE GROVE AVE  0281      CRIM SEXUAL ASSAULT   \n",
      "3           002XX W 107TH ST  0281      CRIM SEXUAL ASSAULT   \n",
      "4           002XX W 104TH ST  0281      CRIM SEXUAL ASSAULT   \n",
      "\n",
      "           description location_description  arrest  domestic  ...  ward  \\\n",
      "0  FIRST DEGREE MURDER         RETAIL STORE    True     False  ...     9   \n",
      "1       NON-AGGRAVATED            RESIDENCE   False     False  ...    34   \n",
      "2       NON-AGGRAVATED            RESIDENCE   False     False  ...     9   \n",
      "3       NON-AGGRAVATED            RESIDENCE   False     False  ...    34   \n",
      "4       NON-AGGRAVATED            RESIDENCE   False     False  ...    34   \n",
      "\n",
      "   community_area  fbi_code  x_coordinate y_coordinate  year  \\\n",
      "0              50       01A     1182951.0    1836828.0  2005   \n",
      "1              49        02     1178071.0    1836598.0  2015   \n",
      "2              50        02     1182698.0    1836734.0  2011   \n",
      "3              49        02     1176385.0    1833981.0  2005   \n",
      "4              49        02     1176571.0    1835979.0  2018   \n",
      "\n",
      "                 updated_on   latitude  longitude  \\\n",
      "0 2022-09-18 04:45:51+00:00  41.707456 -87.605637   \n",
      "1 2020-05-01 03:48:05+00:00  41.706936 -87.623515   \n",
      "2 2016-02-04 06:33:39+00:00  41.707204 -87.606567   \n",
      "3 2018-02-28 03:56:25+00:00  41.699793 -87.629767   \n",
      "4 2018-07-06 03:55:18+00:00  41.705272 -87.629026   \n",
      "\n",
      "                        location  \n",
      "0  (41.707455731, -87.605637491)  \n",
      "1  (41.706936355, -87.623514952)  \n",
      "2  (41.707203646, -87.606566877)  \n",
      "3  (41.699792903, -87.629767326)  \n",
      "4  (41.705271529, -87.629026445)  \n",
      "\n",
      "[5 rows x 22 columns]\n",
      "-----\n"
     ]
    },
    {
     "data": {
      "text/html": [
       "<div>\n",
       "<style scoped>\n",
       "    .dataframe tbody tr th:only-of-type {\n",
       "        vertical-align: middle;\n",
       "    }\n",
       "\n",
       "    .dataframe tbody tr th {\n",
       "        vertical-align: top;\n",
       "    }\n",
       "\n",
       "    .dataframe thead th {\n",
       "        text-align: right;\n",
       "    }\n",
       "</style>\n",
       "<table border=\"1\" class=\"dataframe\">\n",
       "  <thead>\n",
       "    <tr style=\"text-align: right;\">\n",
       "      <th></th>\n",
       "      <th>location</th>\n",
       "    </tr>\n",
       "  </thead>\n",
       "  <tbody>\n",
       "    <tr>\n",
       "      <th>0</th>\n",
       "      <td>(41.707455731, -87.605637491)</td>\n",
       "    </tr>\n",
       "    <tr>\n",
       "      <th>1</th>\n",
       "      <td>(41.706936355, -87.623514952)</td>\n",
       "    </tr>\n",
       "    <tr>\n",
       "      <th>2</th>\n",
       "      <td>(41.707203646, -87.606566877)</td>\n",
       "    </tr>\n",
       "    <tr>\n",
       "      <th>3</th>\n",
       "      <td>(41.699792903, -87.629767326)</td>\n",
       "    </tr>\n",
       "    <tr>\n",
       "      <th>4</th>\n",
       "      <td>(41.705271529, -87.629026445)</td>\n",
       "    </tr>\n",
       "  </tbody>\n",
       "</table>\n",
       "</div>"
      ],
      "text/plain": [
       "                        location\n",
       "0  (41.707455731, -87.605637491)\n",
       "1  (41.706936355, -87.623514952)\n",
       "2  (41.707203646, -87.606566877)\n",
       "3  (41.699792903, -87.629767326)\n",
       "4  (41.705271529, -87.629026445)"
      ]
     },
     "execution_count": 13,
     "metadata": {},
     "output_type": "execute_result"
    }
   ],
   "source": [
    "# Scratch space for your code\n",
    "\n",
    "# Preview the first five lines of the \"crime\" table - line above is going to be overwritten by last line of code =table.schema[21:]\n",
    "client.list_rows(table, max_results=5).to_dataframe()\n",
    "\n",
    "# Preview the first five lines of the \"crime\" table - using print() in spite of client.list_rows().to_dataframe()\n",
    "print(\"-----\")\n",
    "print(client.list_rows(table, max_results=5).to_dataframe())\n",
    "print(\"-----\")\n",
    "\n",
    "# Preview the first five entries in the \"location\" column of the \"crime\" table\n",
    "client.list_rows(table, selected_fields=table.schema[21:], max_results=5).to_dataframe()"
   ]
  },
  {
   "cell_type": "markdown",
   "id": "7e35a388",
   "metadata": {
    "papermill": {
     "duration": 0.012511,
     "end_time": "2023-06-02T17:20:03.807719",
     "exception": false,
     "start_time": "2023-06-02T17:20:03.795208",
     "status": "completed"
    },
    "tags": []
   },
   "source": [
    "# Keep going\n",
    "\n",
    "You've looked at the schema, but you haven't yet done anything exciting with the data itself. Things get more interesting when you get to the data, so keep going to **[write your first SQL query](https://www.kaggle.com/dansbecker/select-from-where).**"
   ]
  },
  {
   "cell_type": "markdown",
   "id": "b40ed155",
   "metadata": {
    "papermill": {
     "duration": 0.012042,
     "end_time": "2023-06-02T17:20:03.832105",
     "exception": false,
     "start_time": "2023-06-02T17:20:03.820063",
     "status": "completed"
    },
    "tags": []
   },
   "source": [
    "---\n",
    "\n",
    "\n",
    "\n",
    "\n",
    "*Have questions or comments? Visit the [course discussion forum](https://www.kaggle.com/learn/intro-to-sql/discussion) to chat with other learners.*"
   ]
  }
 ],
 "metadata": {
  "kernelspec": {
   "display_name": "Python 3",
   "language": "python",
   "name": "python3"
  },
  "language_info": {
   "codemirror_mode": {
    "name": "ipython",
    "version": 3
   },
   "file_extension": ".py",
   "mimetype": "text/x-python",
   "name": "python",
   "nbconvert_exporter": "python",
   "pygments_lexer": "ipython3",
   "version": "3.10.10"
  },
  "papermill": {
   "default_parameters": {},
   "duration": 19.624589,
   "end_time": "2023-06-02T17:20:04.767069",
   "environment_variables": {},
   "exception": null,
   "input_path": "__notebook__.ipynb",
   "output_path": "__notebook__.ipynb",
   "parameters": {},
   "start_time": "2023-06-02T17:19:45.142480",
   "version": "2.4.0"
  }
 },
 "nbformat": 4,
 "nbformat_minor": 5
}
